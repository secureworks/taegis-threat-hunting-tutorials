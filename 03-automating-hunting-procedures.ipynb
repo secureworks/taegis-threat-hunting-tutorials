{
 "cells": [
  {
   "cell_type": "markdown",
   "metadata": {},
   "source": [
    "# Tutorial 3: Automating Hunting Procedures\n",
    "\n",
    "## Objectives\n",
    "\n",
    "- Bootstrap threat hunting procedure notebook from template\n",
    "- Populate new procedure notebook with canned language and desired search queries\n",
    "- Enumerate available hunting procedures\n",
    "- Launch an instance of the new hunting procedure\n",
    "\n",
    "![hunting-create-notebook](images/hunting-create-notebook.png)\n",
    "\n",
    "## Description\n",
    "\n",
    "This tutorial shows how to create a well-formed threat hunting procedure notebook using a provided template.\n",
    "A threat hunting procedure is a Jupyter notebook intended to be re-used and shared with other analysts.\n",
    "\n",
    "## Step 1: Read Procedure Template\n",
    "\n",
    "> Before we begin, please ensure that the notebook kernel is set to `taegis-hunting-tutorials`.\n",
    "\n",
    "Unlike notebooks used for free-form exploratory data analysis, a threat hunting procedure should contain:\n",
    "\n",
    "- Notebook metadata to help organize the procedure in a catalog of hunting procedures kept under version control.\n",
    "- Markdown content to describe the threat and the methodology used to find evidence of the threat. This will be used to populate the key findings section of a Taegis investigation.\n",
    "- Code content to import useful dependencies and create a Taegis investigation from the notebook.\n",
    "- Taegis queries to fetch relevant data in alerts and/or events.\n",
    "- Analysis logic, usually in the form of filtering and transforming `pandas` DataFrames.\n",
    "\n",
    "We find it easier to create a new hunting procedure from a template.\n",
    "The procedure author only needs to fill in the details specific to the new procedure, rather than worry about the other elements.\n",
    "\n",
    "We provided a minimal procedure notebook template in `templates/procedure-template.ipynb`.\n",
    "This template is a skeleton that we will fill in to make our new hunting procedure. We will call our new hunting procedure \"My First Hunting Procedure\"."
   ]
  },
  {
   "cell_type": "code",
   "execution_count": 1,
   "metadata": {},
   "outputs": [],
   "source": [
    "import nbformat\n",
    "\n",
    "procedure_template: nbformat.NotebookNode = nbformat.read(\n",
    "    \"templates/procedure-template.ipynb\", as_version=nbformat.current_nbformat\n",
    ")"
   ]
  },
  {
   "cell_type": "markdown",
   "metadata": {},
   "source": [
    "## Step 2: Add Notebook Metadata\n",
    "\n",
    "To make searching for hunting procedures easier in the future, let's add notebook-level metadata to the new hunting procedure.\n",
    "While the `jupyter.kernelspec` metadata is defined in the Jupyter specification, the `hunting` metadata is entirely arbitrary and can be adapted for other organizational schemes."
   ]
  },
  {
   "cell_type": "markdown",
   "metadata": {},
   "source": [
    "![hunting-nb-metadata](images/hunting-notebook-metadata.png)"
   ]
  },
  {
   "cell_type": "code",
   "execution_count": 2,
   "metadata": {},
   "outputs": [],
   "source": [
    "new_procedure_title = \"My First Hunting Procedure\"\n",
    "output_filename = \"tutorial-03-my-first-hunting-procedure.ipynb\"\n",
    "\n",
    "procedure_template.metadata.hunting = {\n",
    "    \"title\": new_procedure_title,\n",
    "    \"attack_technique_ids\": [\"TXXXX.XXX\"],\n",
    "    \"id\": \"tutorial-03-my-first-hunting-procedure\",\n",
    "    \"description\": \"Here is my first hunting procedure.\",\n",
    "    \"data_sources\": [\"scwx.process\", \"scwx.auth\"],\n",
    "    \"tags\": [\"tutorial\"],\n",
    "}"
   ]
  },
  {
   "cell_type": "markdown",
   "metadata": {},
   "source": [
    "Now that we configured the metadata, we can save our new procedure back into the templates directory:"
   ]
  },
  {
   "cell_type": "code",
   "execution_count": 3,
   "metadata": {},
   "outputs": [],
   "source": [
    "procedure_template.cells = [\n",
    "    nbformat.v4.new_markdown_cell(source=f\"# {new_procedure_title}\"),\n",
    "    *procedure_template.cells\n",
    "]\n",
    "nbformat.validate(procedure_template, relax_add_props=True)\n",
    "nbformat.write(procedure_template, f\"templates/{output_filename}\")"
   ]
  },
  {
   "cell_type": "markdown",
   "metadata": {},
   "source": [
    "Let's confirm that the metadata was set correctly by reading all notebooks from the templates directory that contain hunting-related metadata:"
   ]
  },
  {
   "cell_type": "code",
   "execution_count": 4,
   "metadata": {},
   "outputs": [
    {
     "data": {
      "text/html": [
       "<div>\n",
       "<style scoped>\n",
       "    .dataframe tbody tr th:only-of-type {\n",
       "        vertical-align: middle;\n",
       "    }\n",
       "\n",
       "    .dataframe tbody tr th {\n",
       "        vertical-align: top;\n",
       "    }\n",
       "\n",
       "    .dataframe thead th {\n",
       "        text-align: right;\n",
       "    }\n",
       "</style>\n",
       "<table border=\"1\" class=\"dataframe\">\n",
       "  <thead>\n",
       "    <tr style=\"text-align: right;\">\n",
       "      <th></th>\n",
       "      <th>notebook_path</th>\n",
       "      <th>attack_technique_ids</th>\n",
       "      <th>data_sources</th>\n",
       "      <th>description</th>\n",
       "      <th>id</th>\n",
       "      <th>tags</th>\n",
       "      <th>title</th>\n",
       "    </tr>\n",
       "  </thead>\n",
       "  <tbody>\n",
       "    <tr>\n",
       "      <th>0</th>\n",
       "      <td>templates\\tutorial-03-my-first-hunting-procedu...</td>\n",
       "      <td>[TXXXX.XXX]</td>\n",
       "      <td>[scwx.process, scwx.auth]</td>\n",
       "      <td>Here is my first hunting procedure.</td>\n",
       "      <td>tutorial-03-my-first-hunting-procedure</td>\n",
       "      <td>[tutorial]</td>\n",
       "      <td>My First Hunting Procedure</td>\n",
       "    </tr>\n",
       "    <tr>\n",
       "      <th>1</th>\n",
       "      <td>templates\\tutorial-04-windows-service-manipula...</td>\n",
       "      <td>[T1562.001]</td>\n",
       "      <td>[scwx.process]</td>\n",
       "      <td>The goal of this procedure is to identify poss...</td>\n",
       "      <td>tutorial-04-example-procedure-abcd123</td>\n",
       "      <td>[windows]</td>\n",
       "      <td>Suspicious Windows Service Manipulation</td>\n",
       "    </tr>\n",
       "  </tbody>\n",
       "</table>\n",
       "</div>"
      ],
      "text/plain": [
       "                                       notebook_path attack_technique_ids  \\\n",
       "0  templates\\tutorial-03-my-first-hunting-procedu...          [TXXXX.XXX]   \n",
       "1  templates\\tutorial-04-windows-service-manipula...          [T1562.001]   \n",
       "\n",
       "                data_sources  \\\n",
       "0  [scwx.process, scwx.auth]   \n",
       "1             [scwx.process]   \n",
       "\n",
       "                                         description  \\\n",
       "0                Here is my first hunting procedure.   \n",
       "1  The goal of this procedure is to identify poss...   \n",
       "\n",
       "                                       id        tags  \\\n",
       "0  tutorial-03-my-first-hunting-procedure  [tutorial]   \n",
       "1   tutorial-04-example-procedure-abcd123   [windows]   \n",
       "\n",
       "                                      title  \n",
       "0                My First Hunting Procedure  \n",
       "1   Suspicious Windows Service Manipulation  "
      ]
     },
     "execution_count": 4,
     "metadata": {},
     "output_type": "execute_result"
    }
   ],
   "source": [
    "import pandas as pd\n",
    "from pathlib import Path\n",
    "\n",
    "template_directory = Path(\"templates\")\n",
    "available_notebooks = pd.DataFrame(\n",
    "    {\n",
    "        \"notebook_path\": notebook_path,\n",
    "        **nb.metadata.hunting,\n",
    "    }\n",
    "    for notebook_path in template_directory.glob(\"*.ipynb\")\n",
    "    if (nb := nbformat.read(notebook_path, as_version=nbformat.NO_CONVERT))\n",
    "    if \"hunting\" in nb.metadata\n",
    ")\n",
    "\n",
    "available_notebooks.head()"
   ]
  },
  {
   "cell_type": "markdown",
   "metadata": {},
   "source": [
    "## Step 3: Populate Content\n",
    "\n",
    "Navigate into the templates directory and open up our new notebook: `templates/tutorial-03-my-first-hunting-procedure.ipynb`.\n",
    "\n",
    "**Markdown Content**\n",
    "\n",
    "You should see markdown cells corresponding to the various sections of the report, such as executive summary, findings, and recommendations.\n",
    "The content of those markdown cells will appear in the generated Taegis investigation.\n",
    "When creating a hunting procedure, it is helpful to create a test investigation to ensure that the key findings are well-formed.\n",
    "\n",
    "*Fill out each markdown section with the appropriate canned language.*\n",
    "\n",
    "**Code Content**\n",
    "\n",
    "You should also see a number of cells under the header \"Step N: Step Title\".\n",
    "Each step in a hunting procedure usually contains the same components: some descriptive text, a query, some analysis of the query results, and a Taegis Magic command to stage relevant evidence to the (future) Taegis investigation.\n",
    "A hunting procedure should be able to executable all steps from start to finish without raising exceptions.\n",
    "\n",
    "*Fill out the steps with the queries and logic from the previous tutorial, adding descriptive text as appropriate.*\n",
    "\n",
    "> We provided a pre-populated version of the Windows service manipulation hunting procedure in the templates directory for your convenience.\n",
    "\n",
    "## Step 4: Commit to Version Control\n",
    "\n",
    "Instructions on how to commit to version control are outside the scope of this tutorial.\n",
    "Regardless of the version control system, remember to clear all cell outputs before committing.\n",
    "Threat hunters should pull down the latest version of any hunting procedure from version control before running it.\n",
    "\n",
    "## Step 5: Launch Instance of Hunting Procedure\n",
    "\n",
    "To run our newly created hunting procedure manually, we can use `papermill` to create an instance of the notebook with the appropriate parameters.\n",
    "`papermill` will read the template that we just created, inject several variables, and save a parameterized copy of the notebook to a new location.\n",
    "\n",
    "> In the next tutorial, we will show how to use `papermill` as a Python module to parameterize and execute multiple notebooks concurrently."
   ]
  },
  {
   "cell_type": "code",
   "execution_count": 5,
   "metadata": {},
   "outputs": [
    {
     "name": "stderr",
     "output_type": "stream",
     "text": [
      "Input Notebook:  templates/tutorial-03-my-first-hunting-procedure.ipynb\n",
      "Output Notebook: output/instance-of-my-first-hunting-procedure.ipynb\n",
      "Notebook JSON is invalid: Additional properties are not allowed ('id' was unexpected)\n",
      "\n",
      "Failed validating 'additionalProperties' in markdown_cell:\n",
      "\n",
      "On instance['cells'][0]:\n",
      "{'cell_type': 'markdown',\n",
      " 'id': 'a81e01b8',\n",
      " 'metadata': {},\n",
      " 'source': '# My First Hunting Procedure'}\n",
      "Black is not installed, parameters wont be formatted\n"
     ]
    }
   ],
   "source": [
    "!papermill \\\n",
    "--inject-paths \\\n",
    "--prepare-only \\\n",
    "templates/tutorial-03-my-first-hunting-procedure.ipynb \\\n",
    "output/instance-of-my-first-hunting-procedure.ipynb \\\n",
    "-p TAEGIS_TENANT_ID \"145483\" \\\n",
    "-p TAEGIS_ENVIRONMENT \"foxtrot\" \\\n",
    "-p INVESTIGATION_TITLE \"My First Hunting Procedure\""
   ]
  },
  {
   "cell_type": "markdown",
   "metadata": {},
   "source": [
    "You can now open up `output/instance-of-my-first-hunting-procedure.ipynb` to see a parameterized instance of your new hunting procedure!"
   ]
  },
  {
   "cell_type": "markdown",
   "metadata": {},
   "source": [
    "## Wrap-Up\n",
    "\n",
    "In this tutorial, we did the following:\n",
    "\n",
    "- Bootstraped a new threat hunting procedure notebook from a template\n",
    "- Populated new procedure notebook with canned markdown and code content\n",
    "- Demonstrated how to list available hunting procedures\n",
    "- Launched a parameterized instance of the notebook using `papermill`"
   ]
  }
 ],
 "metadata": {
  "kernelspec": {
   "display_name": "taegis-hunting-tutorials",
   "language": "python",
   "name": "taegis-hunting-tutorials"
  },
  "language_info": {
   "codemirror_mode": {
    "name": "ipython",
    "version": 3
   },
   "file_extension": ".py",
   "mimetype": "text/x-python",
   "name": "python",
   "nbconvert_exporter": "python",
   "pygments_lexer": "ipython3",
   "version": "3.11.5"
  }
 },
 "nbformat": 4,
 "nbformat_minor": 4
}
