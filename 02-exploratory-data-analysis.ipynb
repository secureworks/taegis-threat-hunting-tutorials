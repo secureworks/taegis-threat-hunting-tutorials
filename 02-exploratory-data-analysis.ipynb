{
 "cells": [
  {
   "cell_type": "markdown",
   "metadata": {},
   "source": [
    "# Tutorial 2: Exploratory Data Analysis\n",
    "\n",
    "## Objectives\n",
    "\n",
    "- Use [Taegis Magic](https://github.com/secureworks/taegis-magic) to query relevant security data for a specific threat\n",
    "- Leverage [`pandas`](https://pandas.pydata.org) DataFrames to analyze query results and find evidence of a threat\n",
    "- Document key findings in markdown text\n",
    "- Create a Taegis investigation from the notebook\n",
    "\n",
    "![hunting-single-tenant](images/hunting-single-tenant.png)\n",
    "\n",
    "## Description\n",
    "\n",
    "This tutorial shows how to use Taegis Magic for exploratory data analysis (EDA) and to create Taegis investigations from Jupyter notebooks.\n",
    "Taegis investigations are used to organize key findings and relevant evidence - such as Taegis events, alerts, assets, and search queries - during the discovery and resolution of a security incident. "
   ]
  },
  {
   "cell_type": "markdown",
   "metadata": {},
   "source": [
    "## Step 1: Import Dependencies\n",
    "\n",
    "> Before we begin, please ensure that the notebook kernel is set to `taegis-hunting-tutorials`.\n",
    "\n",
    "This tutorial relies heavily on Taegis Magic to interact with Taegis from Jupyter notebooks.\n",
    "[Taegis Magic](https://github.com/secureworks/taegis-magic) is a Jupyter notebook and command-line interface to interact with the Secureworks Taegis™ security platform. Taegis Magic aims to improve security operations and threat hunting workflows through deep integration between Taegis, Jupyter notebooks, and [`pandas` DataFrames](https://pandas.pydata.org/docs/getting_started/index.html).\n",
    "For a general overview of Taegis Magic and the Taegis SDK for Python, please see the [Taegis SDK for Python](https://github.com/secureworks/taegis-sdk-python/tree/main/docs) and [Taegis Magic](https://github.com/secureworks/taegis-magic/tree/main/docs) documentation.\n",
    "\n",
    "Taegis Magic is implemented as an [IPython Magic](https://ipython.readthedocs.io/en/stable/interactive/magics.html) extension, which requires a special syntax to import into the running notebook:"
   ]
  },
  {
   "cell_type": "code",
   "execution_count": 1,
   "metadata": {},
   "outputs": [],
   "source": [
    "%load_ext taegis_magic\n",
    "#%taegis configure logging defaults sdk_warning --status false"
   ]
  },
  {
   "cell_type": "markdown",
   "metadata": {},
   "source": [
    "You can run Taegis Magic commands using the `%taegis` and `%%taegis` syntax for [line and cell magics](https://github.com/secureworks/taegis-magic/tree/main/docs/jupyter#ipython-magics) respectively.\n",
    "\n",
    "You can use the `--help`/`-h` flag to explore the subcommands and options available in Taegis Magic like other CLI tools. Please see the [Taegis Magic docs](https://github.com/secureworks/taegis-magic/tree/main/docs) for more details on magic commands."
   ]
  },
  {
   "cell_type": "markdown",
   "metadata": {},
   "source": [
    "## Step 2: Query Taegis for Evidence\n",
    "\n",
    "We need to query Taegis to hunt for evidence of a given threat.\n",
    "In these tutorials, we will hunt for threats that intentionally disable some security software on Windows endpoints.\n",
    "We will query Taegis for medium-severity (or lower) alerts related to Windows service tampering which may have gone unactioned.\n",
    "Then we will also query Taegis events for suspicious endpoint process telemetry that is potential evidence of these activities.\n",
    "\n",
    "First, let's define the scope of our exploratory data analysis in the form of a Taegis tenant ID and environment.\n",
    "It is convenient to define these values as variables and reference them in subsequent commands using the `$VARIABLE` string expansion syntax:"
   ]
  },
  {
   "cell_type": "code",
   "execution_count": 2,
   "metadata": {},
   "outputs": [],
   "source": [
    "# You should change these values to a Taegis tenant ID \n",
    "# and environment that you are authorized to access.\n",
    "\n",
    "TAEGIS_TENANT_ID = '145483'\n",
    "TAEGIS_ENVIRONMENT = 'foxtrot'"
   ]
  },
  {
   "cell_type": "markdown",
   "metadata": {},
   "source": [
    "### Alerts Query\n",
    "\n",
    "We will use the `%%taegis alerts search` command to query for medium and lower severity alerts, which potentially went unactioned.\n",
    "Here is a short explanation of this magic command:\n",
    "\n",
    "- The `%%taegis` cell magic syntax indicates that the command will read from the entire cell contents. The first line of the cell is parsed as the arguments, while the remainder of the cell is parsed as the query string.\n",
    "- We pass in the aforementioned `--tenant` and `--region` arguments to set the scope of the query\n",
    "- We include the `--track` flag, which tells Taegis Magic to remember this query for later inclusion in our investigation.\n",
    "- And lastly, we pass in the `--assign` argument to assign the query results to a variable named `alerts_df`.\n",
    "\n",
    "Query results from Taegis Magic commands are returned as `pandas` DataFrames.\n",
    "\n",
    "> If the Taegis SDK for Python is not already authenticated, it will automatically prompt the user to complete an authentication flow."
   ]
  },
  {
   "cell_type": "code",
   "execution_count": 3,
   "metadata": {},
   "outputs": [
    {
     "data": {
      "text/markdown": [
       "**Taegis Search Results**\n",
       "\n",
       "ID: *5b28d368-694e-41db-a9c6-82885c4f6890*\n",
       "\n",
       "\n",
       "\n",
       "|Region          |Tenant             |Service          |Status          |Num. Total                          |Num. Returned                          |Link                   |\n",
       "|----------------|-------------------|-----------------|----------------|------------------------------------|---------------------------------------|:----------------------|\n",
       "|foxtrot|145483|alerts|OK|75|75|https://foxtrot.taegis.secureworks.com/share/5f4c5f85-94e7-4d11-9d9d-97be4641c38d|\n"
      ]
     },
     "metadata": {},
     "output_type": "display_data"
    }
   ],
   "source": [
    "%%taegis alerts search --tenant $TAEGIS_TENANT_ID --region $TAEGIS_ENVIRONMENT --track --assign alerts_df\n",
    "\n",
    "FROM alert\n",
    "WHERE metadata.severity <= 0.6\n",
    "EARLIEST='2023-09-12T12:47:00'\n",
    "LATEST='2023-09-12T13:05:00'"
   ]
  },
  {
   "cell_type": "markdown",
   "metadata": {},
   "source": [
    "Taegis Magic will display markdown tables showing the results from a command.\n",
    "In this case, the markdown table shows that the query completed successfully and had 75 results.\n",
    "It also included a \"share link\", which is a smart hyperlink to this query inside of the Taegis web interface.\n",
    "\n",
    "Since we passed in the argument `--assign alerts_df`, the variable `alerts_df` references the query results as a `pd.DataFrame`.\n",
    "Taegis Magic attempts to flattened nested JSON fields to make it easier to reference the columns.\n",
    "\n",
    "Here is an overview of the DataFrame returned by the previous Taegis Magic command:"
   ]
  },
  {
   "cell_type": "code",
   "execution_count": 4,
   "metadata": {},
   "outputs": [
    {
     "name": "stdout",
     "output_type": "stream",
     "text": [
      "<class 'pandas.core.frame.DataFrame'>\n",
      "RangeIndex: 75 entries, 0 to 74\n",
      "Data columns (total 60 columns):\n",
      " #   Column                                   Non-Null Count  Dtype  \n",
      "---  ------                                   --------------  -----  \n",
      " 0   id                                       75 non-null     object \n",
      " 1   group_key                                73 non-null     object \n",
      " 2   attack_technique_ids                     75 non-null     object \n",
      " 3   tenant_id                                75 non-null     object \n",
      " 4   parent_tenant_id                         75 non-null     object \n",
      " 5   suppressed                               75 non-null     bool   \n",
      " 6   resolution_reason                        75 non-null     object \n",
      " 7   tags                                     75 non-null     object \n",
      " 8   sensor_types                             75 non-null     object \n",
      " 9   visibility                               75 non-null     object \n",
      " 10  suppression_rules                        23 non-null     object \n",
      " 11  alerting_rules                           75 non-null     object \n",
      " 12  status                                   75 non-null     object \n",
      " 13  resolution_history                       23 non-null     object \n",
      " 14  severity_history                         75 non-null     object \n",
      " 15  key_entities                             23 non-null     object \n",
      " 16  event_ids                                75 non-null     object \n",
      " 17  observation_ids                          75 non-null     object \n",
      " 18  investigation_ids                        26 non-null     object \n",
      " 19  collection_ids                           23 non-null     object \n",
      " 20  enrichment_details                       75 non-null     object \n",
      " 21  third_party_details                      23 non-null     object \n",
      " 22  reference_details                        25 non-null     object \n",
      " 23  metadata.severity                        75 non-null     float64\n",
      " 24  metadata.confidence                      75 non-null     float64\n",
      " 25  metadata.title                           75 non-null     object \n",
      " 26  metadata.description                     75 non-null     object \n",
      " 27  metadata.creator.detector.detector_id    75 non-null     object \n",
      " 28  metadata.creator.detector.detector_name  75 non-null     object \n",
      " 29  metadata.creator.detector.version        75 non-null     object \n",
      " 30  metadata.creator.rule.rule_id            75 non-null     object \n",
      " 31  metadata.creator.rule.version            75 non-null     object \n",
      " 32  metadata.engine.name                     75 non-null     object \n",
      " 33  metadata.engine.version                  75 non-null     object \n",
      " 34  metadata.severity_updated_at.seconds     75 non-null     int64  \n",
      " 35  metadata.severity_updated_at.nanos       75 non-null     int64  \n",
      " 36  metadata.began_at.seconds                75 non-null     int64  \n",
      " 37  metadata.began_at.nanos                  75 non-null     int64  \n",
      " 38  metadata.ended_at.seconds                75 non-null     int64  \n",
      " 39  metadata.ended_at.nanos                  75 non-null     int64  \n",
      " 40  metadata.created_at.seconds              75 non-null     int64  \n",
      " 41  metadata.created_at.nanos                75 non-null     int64  \n",
      " 42  metadata.inserted_at.seconds             75 non-null     int64  \n",
      " 43  metadata.inserted_at.nanos               75 non-null     int64  \n",
      " 44  metadata.updated_at.seconds              26 non-null     float64\n",
      " 45  metadata.updated_at.nanos                26 non-null     float64\n",
      " 46  metadata.origin                          75 non-null     object \n",
      " 47  entities.entities                        75 non-null     object \n",
      " 48  entities.relationships                   75 non-null     object \n",
      " 49  events_metadata.first_event_id           75 non-null     object \n",
      " 50  events_metadata.last_event_id            26 non-null     object \n",
      " 51  events_metadata.total_events             75 non-null     int64  \n",
      " 52  events_metadata.updated_at.seconds       75 non-null     int64  \n",
      " 53  events_metadata.updated_at.nanos         75 non-null     int64  \n",
      " 54  events_metadata.began_at.seconds         75 non-null     int64  \n",
      " 55  events_metadata.began_at.nanos           75 non-null     int64  \n",
      " 56  events_metadata.ended_at.seconds         75 non-null     int64  \n",
      " 57  events_metadata.ended_at.nanos           75 non-null     int64  \n",
      " 58  metadata.first_investigated_at.seconds   3 non-null      float64\n",
      " 59  metadata.first_investigated_at.nanos     3 non-null      float64\n",
      "dtypes: bool(1), float64(6), int64(17), object(36)\n",
      "memory usage: 34.8+ KB\n"
     ]
    }
   ],
   "source": [
    "alerts_df.info()"
   ]
  },
  {
   "cell_type": "markdown",
   "metadata": {},
   "source": [
    "Taegis alerts and events are laden with security-relevant information across their schematized fields.\n",
    "\n",
    "We can slice and dice the results using the capabilities afforded by `pandas` to find rows of interest."
   ]
  },
  {
   "cell_type": "code",
   "execution_count": 5,
   "metadata": {},
   "outputs": [
    {
     "data": {
      "text/plain": [
       "status                 metadata.severity  metadata.title                                                                                                   \n",
       "ResolutionStatus.OPEN  0.00               RESEARCH: Active Directory Enumeration with Powershell ADSI Searcher (script block)                                   3\n",
       "                                          RESEARCH: Cleartext Password Storage Enabled (32 bit registry)                                                        1\n",
       "                                          RESEARCH: Discovering Network Information of Localhost                                                                2\n",
       "                                          RESEARCH: Malicious Interaction with Volume Shadow Copy Backups                                                       1\n",
       "                                          RESEARCH: PowerShell Activity Involves Scheduled Task                                                                34\n",
       "                                          RESEARCH: SMBExec Target Execution 2                                                                                  1\n",
       "                                          RESEARCH: Service Deleted Manually using sc.exe                                                                       1\n",
       "                                          RESEARCH: Suspicious Net Group Command                                                                                3\n",
       "                                          RESEARCH: Suspicious Net Group Command Enumerating Domain Admin                                                       3\n",
       "                       0.01               Domain Trust Discovery - Nltest                                                                                       2\n",
       "                                          New Domain User Account Created with net user /add                                                                    2\n",
       "                                          Permission Groups Discovery - net group \"Domain Admins\" (/domain)                                                     1\n",
       "                                          RESEARCH: Domain Controller Impersonation attempt - Kerberos TGT for Domain Controller account missing trailing $     1\n",
       "                                          Remote System Discovery - nltest dclist                                                                               1\n",
       "                                          Suspicious Net Group Command                                                                                          2\n",
       "                       0.25               Account Added to Privileged Group                                                                                     1\n",
       "                                          New User Added to Privileged Group with net /add                                                                      1\n",
       "                                          Nltest Queries All Trusted Domains                                                                                    1\n",
       "                                          Nltest Queries All Trusted Domains 2                                                                                  1\n",
       "                                          Redirecting Output to Location Referencing Environment Variable                                                       1\n",
       "                                          Suspicious Net Group Command Enumerating Domain Admin                                                                 2\n",
       "                                          Suspicious Tasklist Command 3                                                                                         1\n",
       "                                          wmiexec.py Target Execution                                                                                           2\n",
       "                       0.50               Echo Content Into Temp Directory                                                                                      1\n",
       "                                          SMBExec Target Execution 2                                                                                            1\n",
       "                                          Suspicious Stop Service Command                                                                                       1\n",
       "                                          User Added With Suspicious Password                                                                                   2\n",
       "                                          Windows Defender Bypass - Disable Security Notification Service                                                       1\n",
       "                                          Windows Defender Service Deleted                                                                                      1\n",
       "Name: id, dtype: int64"
      ]
     },
     "execution_count": 5,
     "metadata": {},
     "output_type": "execute_result"
    }
   ],
   "source": [
    "alerts_df.groupby([\"status\", \"metadata.severity\", \"metadata.title\"])[\"id\"].nunique()"
   ]
  },
  {
   "cell_type": "markdown",
   "metadata": {},
   "source": [
    "Since we are interested in threats that tamper with security software running as Windows services, lets filter the DataFrame to alerts that reference Windows Defender AV or the Windows native `sc.exe` service control executable."
   ]
  },
  {
   "cell_type": "code",
   "execution_count": 6,
   "metadata": {},
   "outputs": [
    {
     "data": {
      "text/html": [
       "<div>\n",
       "<style scoped>\n",
       "    .dataframe tbody tr th:only-of-type {\n",
       "        vertical-align: middle;\n",
       "    }\n",
       "\n",
       "    .dataframe tbody tr th {\n",
       "        vertical-align: top;\n",
       "    }\n",
       "\n",
       "    .dataframe thead th {\n",
       "        text-align: right;\n",
       "    }\n",
       "</style>\n",
       "<table border=\"1\" class=\"dataframe\">\n",
       "  <thead>\n",
       "    <tr style=\"text-align: right;\">\n",
       "      <th></th>\n",
       "      <th>id</th>\n",
       "      <th>tenant_id</th>\n",
       "      <th>metadata.severity</th>\n",
       "      <th>metadata.title</th>\n",
       "    </tr>\n",
       "  </thead>\n",
       "  <tbody>\n",
       "    <tr>\n",
       "      <th>58</th>\n",
       "      <td>alert://priv:event-filter:145483:1694523157283...</td>\n",
       "      <td>145483</td>\n",
       "      <td>0.5</td>\n",
       "      <td>Windows Defender Service Deleted</td>\n",
       "    </tr>\n",
       "    <tr>\n",
       "      <th>60</th>\n",
       "      <td>alert://priv:event-filter:145483:1694523109278...</td>\n",
       "      <td>145483</td>\n",
       "      <td>0.0</td>\n",
       "      <td>RESEARCH: Service Deleted Manually using sc.exe</td>\n",
       "    </tr>\n",
       "    <tr>\n",
       "      <th>62</th>\n",
       "      <td>alert://priv:event-filter:145483:1694523109287...</td>\n",
       "      <td>145483</td>\n",
       "      <td>0.5</td>\n",
       "      <td>Windows Defender Bypass - Disable Security Not...</td>\n",
       "    </tr>\n",
       "  </tbody>\n",
       "</table>\n",
       "</div>"
      ],
      "text/plain": [
       "                                                   id tenant_id  \\\n",
       "58  alert://priv:event-filter:145483:1694523157283...    145483   \n",
       "60  alert://priv:event-filter:145483:1694523109278...    145483   \n",
       "62  alert://priv:event-filter:145483:1694523109287...    145483   \n",
       "\n",
       "    metadata.severity                                     metadata.title  \n",
       "58                0.5                   Windows Defender Service Deleted  \n",
       "60                0.0    RESEARCH: Service Deleted Manually using sc.exe  \n",
       "62                0.5  Windows Defender Bypass - Disable Security Not...  "
      ]
     },
     "execution_count": 6,
     "metadata": {},
     "output_type": "execute_result"
    }
   ],
   "source": [
    "possible_service_manipulation = alerts_df[alerts_df[\"metadata.title\"].str.contains(\"Windows Defender|sc.exe\")]\n",
    "possible_service_manipulation[[\"id\", \"tenant_id\", \"metadata.severity\", \"metadata.title\"]]"
   ]
  },
  {
   "cell_type": "markdown",
   "metadata": {},
   "source": [
    "#### Stage Alerts Evidence\n",
    "\n",
    "If these alerts are suitably suspicious and we wanted to add them to a (future) Taegis investigation, we can use the `%taegis investigations evidence stage alerts` subcommand to read the `possible_service_manipulation` DataFrame and \"stage\" these alerts for inclusion when we create the investigation at the end of the notebook:"
   ]
  },
  {
   "cell_type": "code",
   "execution_count": 7,
   "metadata": {},
   "outputs": [
    {
     "data": {
      "text/markdown": [
       "\n",
       "**Investigation ID**: NEW\n",
       "\n",
       "| Action | Evidence Type | Staged Before Change | Staged After Change | Difference |\n",
       "| ------ | ------------- | -------------------- | ------------------- | ---------- |\n",
       "| stage | InvestigationEvidenceType.Alert | 0 | 3 | 3 |\n"
      ]
     },
     "metadata": {},
     "output_type": "display_data"
    }
   ],
   "source": [
    "%taegis investigations evidence stage alerts possible_service_manipulation"
   ]
  },
  {
   "cell_type": "markdown",
   "metadata": {},
   "source": [
    "### Events Queries\n",
    "\n",
    "Now lets query Taegis for process events related to the execution of `sc.exe`.\n",
    "Notice that the magic command is `%%taegis events search` rather than `%%taegis alerts search`."
   ]
  },
  {
   "cell_type": "code",
   "execution_count": 8,
   "metadata": {},
   "outputs": [
    {
     "data": {
      "text/markdown": [
       "**Taegis Search Results**\n",
       "\n",
       "ID: *52a4a04c-2397-48ae-ba82-f2f7e88c059b*\n",
       "\n",
       "\n",
       "\n",
       "|Region          |Tenant             |Service          |Status          |Num. Total                          |Num. Returned                          |Link                   |\n",
       "|----------------|-------------------|-----------------|----------------|------------------------------------|---------------------------------------|:----------------------|\n",
       "|foxtrot|145483|events|SUCCEEDED|N/A|172|https://foxtrot.taegis.secureworks.com/share/4782e5f2-f716-466f-bb37-35bb1ea5d956|\n"
      ]
     },
     "metadata": {},
     "output_type": "display_data"
    }
   ],
   "source": [
    "%%taegis events search --tenant $TAEGIS_TENANT_ID --region $TAEGIS_ENVIRONMENT --track --assign sc_processes\n",
    "\n",
    "FROM process\n",
    "WHERE image_path contains 'sc.exe'\n",
    "EARLIEST='2023-09-12T12:47:00'\n",
    "LATEST='2023-09-12T13:05:00'"
   ]
  },
  {
   "cell_type": "markdown",
   "metadata": {},
   "source": [
    "Unsurprisingly, there are many more events than alerts.\n",
    "We can groupby image path and commandline fields to look for evidence of `sc stop` and `sc delete` activity."
   ]
  },
  {
   "cell_type": "code",
   "execution_count": 9,
   "metadata": {},
   "outputs": [
    {
     "data": {
      "text/plain": [
       "parent_image_path                                 image_path                                       commandline        \n",
       "\\Device\\HarddiskVolume2\\Windows\\System32\\cmd.exe  \\Device\\HarddiskVolume2\\Windows\\System32\\sc.exe  sc delete SDRSV        12\n",
       "                                                                                                   sc delete Sense        12\n",
       "                                                                                                   sc delete WerSvc       12\n",
       "                                                                                                   sc delete WinDefend    12\n",
       "                                                                                                   sc delete mpssvc       12\n",
       "                                                                                                   sc delete wscsvc       12\n",
       "                                                                                                   sc delete wuauserv     12\n",
       "                                                                                                   sc stop SDRSV          12\n",
       "                                                                                                   sc stop Sense          12\n",
       "                                                                                                   sc stop WerSvc         12\n",
       "                                                                                                   sc stop WinDefend      12\n",
       "                                                                                                   sc stop mpssvc         12\n",
       "                                                                                                   sc stop wscsvc         12\n",
       "                                                                                                   sc stop wuauserv       12\n",
       "Name: resource_id, dtype: int64"
      ]
     },
     "execution_count": 9,
     "metadata": {},
     "output_type": "execute_result"
    }
   ],
   "source": [
    "sc_stop_or_delete = sc_processes[sc_processes.commandline.str.contains(\"stop|delete\")]\n",
    "sc_stop_or_delete.groupby([\"parent_image_path\", \"image_path\", \"commandline\"])[\"resource_id\"].size()"
   ]
  },
  {
   "cell_type": "markdown",
   "metadata": {},
   "source": [
    "### Stage Events Evidence\n",
    "\n",
    "Once again, we can filter down to the rows of interest and stage them for inclusion in the investigation that we will create at the end of the tutorial.\n",
    "Let's stage processes related to tampering with the `WinDefend` service:"
   ]
  },
  {
   "cell_type": "code",
   "execution_count": 10,
   "metadata": {},
   "outputs": [
    {
     "data": {
      "text/html": [
       "<div>\n",
       "<style scoped>\n",
       "    .dataframe tbody tr th:only-of-type {\n",
       "        vertical-align: middle;\n",
       "    }\n",
       "\n",
       "    .dataframe tbody tr th {\n",
       "        vertical-align: top;\n",
       "    }\n",
       "\n",
       "    .dataframe thead th {\n",
       "        text-align: right;\n",
       "    }\n",
       "</style>\n",
       "<table border=\"1\" class=\"dataframe\">\n",
       "  <thead>\n",
       "    <tr style=\"text-align: right;\">\n",
       "      <th></th>\n",
       "      <th>resource_id</th>\n",
       "      <th>hostname</th>\n",
       "      <th>image_path</th>\n",
       "      <th>commandline</th>\n",
       "    </tr>\n",
       "  </thead>\n",
       "  <tbody>\n",
       "    <tr>\n",
       "      <th>144</th>\n",
       "      <td>event://priv:scwx.process:145483:1694527486000...</td>\n",
       "      <td>Win10</td>\n",
       "      <td>\\Device\\HarddiskVolume2\\Windows\\System32\\sc.exe</td>\n",
       "      <td>sc stop WinDefend</td>\n",
       "    </tr>\n",
       "    <tr>\n",
       "      <th>145</th>\n",
       "      <td>event://priv:scwx.process:145483:1694523544000...</td>\n",
       "      <td>Win10</td>\n",
       "      <td>\\Device\\HarddiskVolume2\\Windows\\System32\\sc.exe</td>\n",
       "      <td>sc stop WinDefend</td>\n",
       "    </tr>\n",
       "    <tr>\n",
       "      <th>146</th>\n",
       "      <td>event://priv:scwx.process:145483:1694523155000...</td>\n",
       "      <td>Win10</td>\n",
       "      <td>\\Device\\HarddiskVolume2\\Windows\\System32\\sc.exe</td>\n",
       "      <td>sc stop WinDefend</td>\n",
       "    </tr>\n",
       "    <tr>\n",
       "      <th>147</th>\n",
       "      <td>event://priv:scwx.process:145483:1694525162000...</td>\n",
       "      <td>Win10</td>\n",
       "      <td>\\Device\\HarddiskVolume2\\Windows\\System32\\sc.exe</td>\n",
       "      <td>sc stop WinDefend</td>\n",
       "    </tr>\n",
       "    <tr>\n",
       "      <th>148</th>\n",
       "      <td>event://priv:scwx.process:145483:1694526292000...</td>\n",
       "      <td>Win10</td>\n",
       "      <td>\\Device\\HarddiskVolume2\\Windows\\System32\\sc.exe</td>\n",
       "      <td>sc stop WinDefend</td>\n",
       "    </tr>\n",
       "  </tbody>\n",
       "</table>\n",
       "</div>"
      ],
      "text/plain": [
       "                                           resource_id hostname  \\\n",
       "144  event://priv:scwx.process:145483:1694527486000...    Win10   \n",
       "145  event://priv:scwx.process:145483:1694523544000...    Win10   \n",
       "146  event://priv:scwx.process:145483:1694523155000...    Win10   \n",
       "147  event://priv:scwx.process:145483:1694525162000...    Win10   \n",
       "148  event://priv:scwx.process:145483:1694526292000...    Win10   \n",
       "\n",
       "                                          image_path        commandline  \n",
       "144  \\Device\\HarddiskVolume2\\Windows\\System32\\sc.exe  sc stop WinDefend  \n",
       "145  \\Device\\HarddiskVolume2\\Windows\\System32\\sc.exe  sc stop WinDefend  \n",
       "146  \\Device\\HarddiskVolume2\\Windows\\System32\\sc.exe  sc stop WinDefend  \n",
       "147  \\Device\\HarddiskVolume2\\Windows\\System32\\sc.exe  sc stop WinDefend  \n",
       "148  \\Device\\HarddiskVolume2\\Windows\\System32\\sc.exe  sc stop WinDefend  "
      ]
     },
     "execution_count": 10,
     "metadata": {},
     "output_type": "execute_result"
    }
   ],
   "source": [
    "manipulating_windefend = sc_stop_or_delete[sc_stop_or_delete.commandline.str.contains(\"WinDefend\")]\n",
    "manipulating_windefend[[\"resource_id\",  \"hostname\", \"image_path\", \"commandline\"]].head()"
   ]
  },
  {
   "cell_type": "code",
   "execution_count": 11,
   "metadata": {},
   "outputs": [
    {
     "data": {
      "text/markdown": [
       "\n",
       "**Investigation ID**: NEW\n",
       "\n",
       "| Action | Evidence Type | Staged Before Change | Staged After Change | Difference |\n",
       "| ------ | ------------- | -------------------- | ------------------- | ---------- |\n",
       "| stage | InvestigationEvidenceType.Event | 0 | 24 | 24 |\n"
      ]
     },
     "metadata": {},
     "output_type": "display_data"
    }
   ],
   "source": [
    "%taegis investigations evidence stage events manipulating_windefend"
   ]
  },
  {
   "cell_type": "markdown",
   "metadata": {},
   "source": [
    "## Step 3: Document Key Findings\n",
    "\n",
    "The _key findings_ section of a Taegis investigation contains a human-readable summary of the investigation in markdown text.\n",
    "\n",
    "We can use the built-in `%%writefile` cell magic to write cell content to a file named `key-findings.md` in the current working directory.\n",
    "\n",
    "> In this tutorial, we will write a short summary of our key findings for demonstration purposes.\n",
    "> In the next tutorial, we will show how to use the markdown content of the notebook as the key findings of an investigation."
   ]
  },
  {
   "cell_type": "code",
   "execution_count": 12,
   "metadata": {},
   "outputs": [
    {
     "name": "stdout",
     "output_type": "stream",
     "text": [
      "Writing key-findings.md\n"
     ]
    }
   ],
   "source": [
    "%%writefile key-findings.md\n",
    "\n",
    "# Executive Summary\n",
    "\n",
    "We hunted for evidence of unactioned and/or undetected manipulation of the Windows Defender service.\n",
    "\n",
    "# Findings\n",
    "\n",
    "We found evidence of unauthorized stop and delete commands for the `WinDefend` service.\n",
    "This may be evidence of a malicious actor or software."
   ]
  },
  {
   "cell_type": "markdown",
   "metadata": {},
   "source": [
    "## Step 4: Create Investigation\n",
    "\n",
    "Once analysis has concluded, we can create a new Taegis investigation that contains our key findings and is linked to the alert and event evidence that we staged in the previous steps.\n",
    "\n",
    "Once again, we will use Taegis Magic to interact with the Taegis APIs.\n",
    "The `%taegis investigations create` command allows us to create the investigation.\n",
    "Since this is a \"threat hunt\", we want to make sure that we pass in `--type THREAT_HUNT` so that it is categorized correctly.\n",
    "\n",
    "> Note the options available using the `--help`/`-h` flags."
   ]
  },
  {
   "cell_type": "code",
   "execution_count": 13,
   "metadata": {},
   "outputs": [
    {
     "name": "stdout",
     "output_type": "stream",
     "text": [
      "usage: taegis_magic_parser [-h] [--assign NAME | --append NAME]\n",
      "                           [--display NAME] [--cache]\n",
      "\n",
      "options:\n",
      "  -h, --help      show this help message and exit\n",
      "  --assign NAME   Assign results as pandas DataFrame to NAME\n",
      "  --append NAME   Append results as pandas DataFrame to NAME\n",
      "  --display NAME  Display NAME as markdown table\n",
      "  --cache         Save output to cache / Load output from cache (if present)\n"
     ]
    },
    {
     "data": {
      "text/html": [
       "<pre style=\"white-space:pre;overflow-x:auto;line-height:normal;font-family:Menlo,'DejaVu Sans Mono',consolas,'Courier New',monospace\"><span style=\"font-weight: bold\">                                                                                                                   </span>\n",
       "<span style=\"font-weight: bold\"> </span><span style=\"color: #808000; text-decoration-color: #808000; font-weight: bold\">Usage: </span><span style=\"font-weight: bold\">taegis investigations create [OPTIONS]                                                                     </span>\n",
       "<span style=\"font-weight: bold\">                                                                                                                   </span>\n",
       "</pre>\n"
      ],
      "text/plain": [
       "\u001b[1m                                                                                                                   \u001b[0m\n",
       "\u001b[1m \u001b[0m\u001b[1;33mUsage: \u001b[0m\u001b[1mtaegis investigations create [OPTIONS]\u001b[0m\u001b[1m                                                                    \u001b[0m\u001b[1m \u001b[0m\n",
       "\u001b[1m                                                                                                                   \u001b[0m\n"
      ]
     },
     "metadata": {},
     "output_type": "display_data"
    },
    {
     "data": {
      "text/html": [
       "<pre style=\"white-space:pre;overflow-x:auto;line-height:normal;font-family:Menlo,'DejaVu Sans Mono',consolas,'Courier New',monospace\"> Create a new investigation                                                                                        \n",
       "                                                                                                                   \n",
       "</pre>\n"
      ],
      "text/plain": [
       " Create a new investigation                                                                                        \n",
       "                                                                                                                   \n"
      ]
     },
     "metadata": {},
     "output_type": "display_data"
    },
    {
     "data": {
      "text/html": [
       "<pre style=\"white-space:pre;overflow-x:auto;line-height:normal;font-family:Menlo,'DejaVu Sans Mono',consolas,'Courier New',monospace\"><span style=\"color: #7f7f7f; text-decoration-color: #7f7f7f\">╭─ Options ───────────────────────────────────────────────────────────────────────────────────────────────────────╮</span>\n",
       "<span style=\"color: #7f7f7f; text-decoration-color: #7f7f7f\">│</span> <span style=\"color: #800000; text-decoration-color: #800000\">*</span>  <span style=\"color: #008080; text-decoration-color: #008080; font-weight: bold\">--title</span>                             <span style=\"color: #808000; text-decoration-color: #808000; font-weight: bold\">TEXT                               </span>  <span style=\"color: #7f7f7f; text-decoration-color: #7f7f7f\">[default: None]</span> <span style=\"color: #bf7f7f; text-decoration-color: #bf7f7f\">[required]</span>          <span style=\"color: #7f7f7f; text-decoration-color: #7f7f7f\">│</span>\n",
       "<span style=\"color: #7f7f7f; text-decoration-color: #7f7f7f\">│</span> <span style=\"color: #800000; text-decoration-color: #800000\">*</span>  <span style=\"color: #008080; text-decoration-color: #008080; font-weight: bold\">--key-findings</span>                      <span style=\"color: #808000; text-decoration-color: #808000; font-weight: bold\">PATH                               </span>  <span style=\"color: #7f7f7f; text-decoration-color: #7f7f7f\">[default: None]</span> <span style=\"color: #bf7f7f; text-decoration-color: #bf7f7f\">[required]</span>          <span style=\"color: #7f7f7f; text-decoration-color: #7f7f7f\">│</span>\n",
       "<span style=\"color: #7f7f7f; text-decoration-color: #7f7f7f\">│</span>    <span style=\"color: #008080; text-decoration-color: #008080; font-weight: bold\">--priority</span>                          <span style=\"color: #bfbf7f; text-decoration-color: #bfbf7f; font-weight: bold\">[</span><span style=\"color: #808000; text-decoration-color: #808000; font-weight: bold\">LOW</span><span style=\"color: #bfbf7f; text-decoration-color: #bfbf7f; font-weight: bold\">|</span><span style=\"color: #808000; text-decoration-color: #808000; font-weight: bold\">MEDIUM</span><span style=\"color: #bfbf7f; text-decoration-color: #bfbf7f; font-weight: bold\">|</span><span style=\"color: #808000; text-decoration-color: #808000; font-weight: bold\">HIGH</span><span style=\"color: #bfbf7f; text-decoration-color: #bfbf7f; font-weight: bold\">|</span><span style=\"color: #808000; text-decoration-color: #808000; font-weight: bold\">CRITICAL</span><span style=\"color: #bfbf7f; text-decoration-color: #bfbf7f; font-weight: bold\">]</span><span style=\"color: #808000; text-decoration-color: #808000; font-weight: bold\">         </span>  <span style=\"color: #7f7f7f; text-decoration-color: #7f7f7f\">[default:                          </span> <span style=\"color: #7f7f7f; text-decoration-color: #7f7f7f\">│</span>\n",
       "<span style=\"color: #7f7f7f; text-decoration-color: #7f7f7f\">│</span>                                                                             <span style=\"color: #7f7f7f; text-decoration-color: #7f7f7f\">InvestigationPriority.MEDIUM]      </span> <span style=\"color: #7f7f7f; text-decoration-color: #7f7f7f\">│</span>\n",
       "<span style=\"color: #7f7f7f; text-decoration-color: #7f7f7f\">│</span>    <span style=\"color: #008080; text-decoration-color: #008080; font-weight: bold\">--type</span>                              <span style=\"color: #bfbf7f; text-decoration-color: #bfbf7f; font-weight: bold\">[</span><span style=\"color: #808000; text-decoration-color: #808000; font-weight: bold\">SECURITY_INVESTIGATION</span><span style=\"color: #bfbf7f; text-decoration-color: #bfbf7f; font-weight: bold\">|</span><span style=\"color: #808000; text-decoration-color: #808000; font-weight: bold\">INCIDENT_RE</span>  <span style=\"color: #7f7f7f; text-decoration-color: #7f7f7f\">[default:                          </span> <span style=\"color: #7f7f7f; text-decoration-color: #7f7f7f\">│</span>\n",
       "<span style=\"color: #7f7f7f; text-decoration-color: #7f7f7f\">│</span>                                        <span style=\"color: #808000; text-decoration-color: #808000; font-weight: bold\">SPONSE</span><span style=\"color: #bfbf7f; text-decoration-color: #bfbf7f; font-weight: bold\">|</span><span style=\"color: #808000; text-decoration-color: #808000; font-weight: bold\">THREAT_HUNT</span><span style=\"color: #bfbf7f; text-decoration-color: #bfbf7f; font-weight: bold\">|</span><span style=\"color: #808000; text-decoration-color: #808000; font-weight: bold\">MANAGED_XDR_THRE</span>  <span style=\"color: #7f7f7f; text-decoration-color: #7f7f7f\">InvestigationType.SECURITY_INVESTI…</span> <span style=\"color: #7f7f7f; text-decoration-color: #7f7f7f\">│</span>\n",
       "<span style=\"color: #7f7f7f; text-decoration-color: #7f7f7f\">│</span>                                        <span style=\"color: #808000; text-decoration-color: #808000; font-weight: bold\">AT_HUNT</span><span style=\"color: #bfbf7f; text-decoration-color: #bfbf7f; font-weight: bold\">|</span><span style=\"color: #808000; text-decoration-color: #808000; font-weight: bold\">CTU_THREAT_HUNT</span><span style=\"color: #bfbf7f; text-decoration-color: #bfbf7f; font-weight: bold\">|</span><span style=\"color: #808000; text-decoration-color: #808000; font-weight: bold\">MANAGED_XDR</span>                                      <span style=\"color: #7f7f7f; text-decoration-color: #7f7f7f\">│</span>\n",
       "<span style=\"color: #7f7f7f; text-decoration-color: #7f7f7f\">│</span>                                        <span style=\"color: #808000; text-decoration-color: #808000; font-weight: bold\">_ELITE_THREAT_HUNT</span><span style=\"color: #bfbf7f; text-decoration-color: #bfbf7f; font-weight: bold\">|</span><span style=\"color: #808000; text-decoration-color: #808000; font-weight: bold\">SECUREWORKS_INCI</span>                                      <span style=\"color: #7f7f7f; text-decoration-color: #7f7f7f\">│</span>\n",
       "<span style=\"color: #7f7f7f; text-decoration-color: #7f7f7f\">│</span>                                        <span style=\"color: #808000; text-decoration-color: #808000; font-weight: bold\">DENT_RESPONSE</span><span style=\"color: #bfbf7f; text-decoration-color: #bfbf7f; font-weight: bold\">|</span><span style=\"color: #808000; text-decoration-color: #808000; font-weight: bold\">UNLIMITED_RESPONSE</span><span style=\"color: #bfbf7f; text-decoration-color: #bfbf7f; font-weight: bold\">|</span><span style=\"color: #808000; text-decoration-color: #808000; font-weight: bold\">MA</span>                                      <span style=\"color: #7f7f7f; text-decoration-color: #7f7f7f\">│</span>\n",
       "<span style=\"color: #7f7f7f; text-decoration-color: #7f7f7f\">│</span>                                        <span style=\"color: #808000; text-decoration-color: #808000; font-weight: bold\">NAGED_XDR_OT_INVESTIGATION</span><span style=\"color: #bfbf7f; text-decoration-color: #bfbf7f; font-weight: bold\">|</span><span style=\"color: #808000; text-decoration-color: #808000; font-weight: bold\">OT_INVES</span>                                      <span style=\"color: #7f7f7f; text-decoration-color: #7f7f7f\">│</span>\n",
       "<span style=\"color: #7f7f7f; text-decoration-color: #7f7f7f\">│</span>                                        <span style=\"color: #808000; text-decoration-color: #808000; font-weight: bold\">TIGATION</span><span style=\"color: #bfbf7f; text-decoration-color: #bfbf7f; font-weight: bold\">]</span><span style=\"color: #808000; text-decoration-color: #808000; font-weight: bold\">                          </span>                                      <span style=\"color: #7f7f7f; text-decoration-color: #7f7f7f\">│</span>\n",
       "<span style=\"color: #7f7f7f; text-decoration-color: #7f7f7f\">│</span>    <span style=\"color: #008080; text-decoration-color: #008080; font-weight: bold\">--status</span>                            <span style=\"color: #bfbf7f; text-decoration-color: #bfbf7f; font-weight: bold\">[</span><span style=\"color: #808000; text-decoration-color: #808000; font-weight: bold\">DRAFT</span><span style=\"color: #bfbf7f; text-decoration-color: #bfbf7f; font-weight: bold\">|</span><span style=\"color: #808000; text-decoration-color: #808000; font-weight: bold\">DRAFT_DISMISSED</span><span style=\"color: #bfbf7f; text-decoration-color: #bfbf7f; font-weight: bold\">|</span><span style=\"color: #808000; text-decoration-color: #808000; font-weight: bold\">OPEN</span><span style=\"color: #bfbf7f; text-decoration-color: #bfbf7f; font-weight: bold\">|</span><span style=\"color: #808000; text-decoration-color: #808000; font-weight: bold\">AWAITIN</span>  <span style=\"color: #7f7f7f; text-decoration-color: #7f7f7f\">[default: InvestigationStatus.OPEN]</span> <span style=\"color: #7f7f7f; text-decoration-color: #7f7f7f\">│</span>\n",
       "<span style=\"color: #7f7f7f; text-decoration-color: #7f7f7f\">│</span>                                        <span style=\"color: #808000; text-decoration-color: #808000; font-weight: bold\">G_ACTION</span><span style=\"color: #bfbf7f; text-decoration-color: #bfbf7f; font-weight: bold\">|</span><span style=\"color: #808000; text-decoration-color: #808000; font-weight: bold\">ACTIVE</span><span style=\"color: #bfbf7f; text-decoration-color: #bfbf7f; font-weight: bold\">|</span><span style=\"color: #808000; text-decoration-color: #808000; font-weight: bold\">SUSPENDED</span><span style=\"color: #bfbf7f; text-decoration-color: #bfbf7f; font-weight: bold\">|</span><span style=\"color: #808000; text-decoration-color: #808000; font-weight: bold\">CLOSED_CO</span>                                      <span style=\"color: #7f7f7f; text-decoration-color: #7f7f7f\">│</span>\n",
       "<span style=\"color: #7f7f7f; text-decoration-color: #7f7f7f\">│</span>                                        <span style=\"color: #808000; text-decoration-color: #808000; font-weight: bold\">NFIRMED_SECURITY_INCIDENT</span><span style=\"color: #bfbf7f; text-decoration-color: #bfbf7f; font-weight: bold\">|</span><span style=\"color: #808000; text-decoration-color: #808000; font-weight: bold\">CLOSED_AU</span>                                      <span style=\"color: #7f7f7f; text-decoration-color: #7f7f7f\">│</span>\n",
       "<span style=\"color: #7f7f7f; text-decoration-color: #7f7f7f\">│</span>                                        <span style=\"color: #808000; text-decoration-color: #808000; font-weight: bold\">THORIZED_ACTIVITY</span><span style=\"color: #bfbf7f; text-decoration-color: #bfbf7f; font-weight: bold\">|</span><span style=\"color: #808000; text-decoration-color: #808000; font-weight: bold\">CLOSED_THREAT_MIT</span>                                      <span style=\"color: #7f7f7f; text-decoration-color: #7f7f7f\">│</span>\n",
       "<span style=\"color: #7f7f7f; text-decoration-color: #7f7f7f\">│</span>                                        <span style=\"color: #808000; text-decoration-color: #808000; font-weight: bold\">IGATED</span><span style=\"color: #bfbf7f; text-decoration-color: #bfbf7f; font-weight: bold\">|</span><span style=\"color: #808000; text-decoration-color: #808000; font-weight: bold\">CLOSED_NOT_VULNERABLE</span><span style=\"color: #bfbf7f; text-decoration-color: #bfbf7f; font-weight: bold\">|</span><span style=\"color: #808000; text-decoration-color: #808000; font-weight: bold\">CLOSED</span>                                      <span style=\"color: #7f7f7f; text-decoration-color: #7f7f7f\">│</span>\n",
       "<span style=\"color: #7f7f7f; text-decoration-color: #7f7f7f\">│</span>                                        <span style=\"color: #808000; text-decoration-color: #808000; font-weight: bold\">_FALSE_POSITIVE_ALERT</span><span style=\"color: #bfbf7f; text-decoration-color: #bfbf7f; font-weight: bold\">|</span><span style=\"color: #808000; text-decoration-color: #808000; font-weight: bold\">CLOSED_INCONC</span>                                      <span style=\"color: #7f7f7f; text-decoration-color: #7f7f7f\">│</span>\n",
       "<span style=\"color: #7f7f7f; text-decoration-color: #7f7f7f\">│</span>                                        <span style=\"color: #808000; text-decoration-color: #808000; font-weight: bold\">LUSIVE</span><span style=\"color: #bfbf7f; text-decoration-color: #bfbf7f; font-weight: bold\">|</span><span style=\"color: #808000; text-decoration-color: #808000; font-weight: bold\">CLOSED_INFORMATIONAL</span><span style=\"color: #bfbf7f; text-decoration-color: #bfbf7f; font-weight: bold\">]</span><span style=\"color: #808000; text-decoration-color: #808000; font-weight: bold\">       </span>                                      <span style=\"color: #7f7f7f; text-decoration-color: #7f7f7f\">│</span>\n",
       "<span style=\"color: #7f7f7f; text-decoration-color: #7f7f7f\">│</span>    <span style=\"color: #008080; text-decoration-color: #008080; font-weight: bold\">--assignee-id</span>                       <span style=\"color: #808000; text-decoration-color: #808000; font-weight: bold\">TEXT                               </span>  <span style=\"color: #7f7f7f; text-decoration-color: #7f7f7f\">[default: @customer]</span>                <span style=\"color: #7f7f7f; text-decoration-color: #7f7f7f\">│</span>\n",
       "<span style=\"color: #7f7f7f; text-decoration-color: #7f7f7f\">│</span>    <span style=\"color: #008080; text-decoration-color: #008080; font-weight: bold\">--database</span>                          <span style=\"color: #808000; text-decoration-color: #808000; font-weight: bold\">TEXT                               </span>  <span style=\"color: #7f7f7f; text-decoration-color: #7f7f7f\">[default: :memory:]</span>                 <span style=\"color: #7f7f7f; text-decoration-color: #7f7f7f\">│</span>\n",
       "<span style=\"color: #7f7f7f; text-decoration-color: #7f7f7f\">│</span>    <span style=\"color: #008080; text-decoration-color: #008080; font-weight: bold\">--dry-run</span>           <span style=\"color: #800080; text-decoration-color: #800080; font-weight: bold\">--no-dry-run</span>    <span style=\"color: #808000; text-decoration-color: #808000; font-weight: bold\">                                   </span>  <span style=\"color: #7f7f7f; text-decoration-color: #7f7f7f\">[default: no-dry-run]</span>               <span style=\"color: #7f7f7f; text-decoration-color: #7f7f7f\">│</span>\n",
       "<span style=\"color: #7f7f7f; text-decoration-color: #7f7f7f\">│</span>    <span style=\"color: #008080; text-decoration-color: #008080; font-weight: bold\">--region</span>                            <span style=\"color: #808000; text-decoration-color: #808000; font-weight: bold\">TEXT                               </span>  <span style=\"color: #7f7f7f; text-decoration-color: #7f7f7f\">[default: None]</span>                     <span style=\"color: #7f7f7f; text-decoration-color: #7f7f7f\">│</span>\n",
       "<span style=\"color: #7f7f7f; text-decoration-color: #7f7f7f\">│</span>    <span style=\"color: #008080; text-decoration-color: #008080; font-weight: bold\">--tenant</span>                            <span style=\"color: #808000; text-decoration-color: #808000; font-weight: bold\">TEXT                               </span>  <span style=\"color: #7f7f7f; text-decoration-color: #7f7f7f\">[default: None]</span>                     <span style=\"color: #7f7f7f; text-decoration-color: #7f7f7f\">│</span>\n",
       "<span style=\"color: #7f7f7f; text-decoration-color: #7f7f7f\">│</span>    <span style=\"color: #008080; text-decoration-color: #008080; font-weight: bold\">--help</span>          <span style=\"color: #008000; text-decoration-color: #008000; font-weight: bold\">-h</span>                  <span style=\"color: #808000; text-decoration-color: #808000; font-weight: bold\">                                   </span>  Show this message and exit.         <span style=\"color: #7f7f7f; text-decoration-color: #7f7f7f\">│</span>\n",
       "<span style=\"color: #7f7f7f; text-decoration-color: #7f7f7f\">╰─────────────────────────────────────────────────────────────────────────────────────────────────────────────────╯</span>\n",
       "</pre>\n"
      ],
      "text/plain": [
       "\u001b[2m╭─\u001b[0m\u001b[2m Options \u001b[0m\u001b[2m──────────────────────────────────────────────────────────────────────────────────────────────────────\u001b[0m\u001b[2m─╮\u001b[0m\n",
       "\u001b[2m│\u001b[0m \u001b[31m*\u001b[0m  \u001b[1;36m-\u001b[0m\u001b[1;36m-title\u001b[0m                             \u001b[1;33mTEXT                               \u001b[0m  \u001b[2m[default: None]\u001b[0m \u001b[2;31m[required]\u001b[0m          \u001b[2m│\u001b[0m\n",
       "\u001b[2m│\u001b[0m \u001b[31m*\u001b[0m  \u001b[1;36m-\u001b[0m\u001b[1;36m-key\u001b[0m\u001b[1;36m-findings\u001b[0m                      \u001b[1;33mPATH                               \u001b[0m  \u001b[2m[default: None]\u001b[0m \u001b[2;31m[required]\u001b[0m          \u001b[2m│\u001b[0m\n",
       "\u001b[2m│\u001b[0m    \u001b[1;36m-\u001b[0m\u001b[1;36m-priority\u001b[0m                          \u001b[1;2;33m[\u001b[0m\u001b[1;33mLOW\u001b[0m\u001b[1;2;33m|\u001b[0m\u001b[1;33mMEDIUM\u001b[0m\u001b[1;2;33m|\u001b[0m\u001b[1;33mHIGH\u001b[0m\u001b[1;2;33m|\u001b[0m\u001b[1;33mCRITICAL\u001b[0m\u001b[1;2;33m]\u001b[0m\u001b[1;33m         \u001b[0m  \u001b[2m[default:                          \u001b[0m \u001b[2m│\u001b[0m\n",
       "\u001b[2m│\u001b[0m                                                                             \u001b[2mInvestigationPriority.MEDIUM]      \u001b[0m \u001b[2m│\u001b[0m\n",
       "\u001b[2m│\u001b[0m    \u001b[1;36m-\u001b[0m\u001b[1;36m-type\u001b[0m                              \u001b[1;2;33m[\u001b[0m\u001b[1;33mSECURITY_INVESTIGATION\u001b[0m\u001b[1;2;33m|\u001b[0m\u001b[1;33mINCIDENT_RE\u001b[0m  \u001b[2m[default:                          \u001b[0m \u001b[2m│\u001b[0m\n",
       "\u001b[2m│\u001b[0m                                        \u001b[1;33mSPONSE\u001b[0m\u001b[1;2;33m|\u001b[0m\u001b[1;33mTHREAT_HUNT\u001b[0m\u001b[1;2;33m|\u001b[0m\u001b[1;33mMANAGED_XDR_THRE\u001b[0m  \u001b[2mInvestigationType.SECURITY_INVESTI…\u001b[0m \u001b[2m│\u001b[0m\n",
       "\u001b[2m│\u001b[0m                                        \u001b[1;33mAT_HUNT\u001b[0m\u001b[1;2;33m|\u001b[0m\u001b[1;33mCTU_THREAT_HUNT\u001b[0m\u001b[1;2;33m|\u001b[0m\u001b[1;33mMANAGED_XDR\u001b[0m                                      \u001b[2m│\u001b[0m\n",
       "\u001b[2m│\u001b[0m                                        \u001b[1;33m_ELITE_THREAT_HUNT\u001b[0m\u001b[1;2;33m|\u001b[0m\u001b[1;33mSECUREWORKS_INCI\u001b[0m                                      \u001b[2m│\u001b[0m\n",
       "\u001b[2m│\u001b[0m                                        \u001b[1;33mDENT_RESPONSE\u001b[0m\u001b[1;2;33m|\u001b[0m\u001b[1;33mUNLIMITED_RESPONSE\u001b[0m\u001b[1;2;33m|\u001b[0m\u001b[1;33mMA\u001b[0m                                      \u001b[2m│\u001b[0m\n",
       "\u001b[2m│\u001b[0m                                        \u001b[1;33mNAGED_XDR_OT_INVESTIGATION\u001b[0m\u001b[1;2;33m|\u001b[0m\u001b[1;33mOT_INVES\u001b[0m                                      \u001b[2m│\u001b[0m\n",
       "\u001b[2m│\u001b[0m                                        \u001b[1;33mTIGATION\u001b[0m\u001b[1;2;33m]\u001b[0m\u001b[1;33m                          \u001b[0m                                      \u001b[2m│\u001b[0m\n",
       "\u001b[2m│\u001b[0m    \u001b[1;36m-\u001b[0m\u001b[1;36m-status\u001b[0m                            \u001b[1;2;33m[\u001b[0m\u001b[1;33mDRAFT\u001b[0m\u001b[1;2;33m|\u001b[0m\u001b[1;33mDRAFT_DISMISSED\u001b[0m\u001b[1;2;33m|\u001b[0m\u001b[1;33mOPEN\u001b[0m\u001b[1;2;33m|\u001b[0m\u001b[1;33mAWAITIN\u001b[0m  \u001b[2m[default: InvestigationStatus.OPEN]\u001b[0m \u001b[2m│\u001b[0m\n",
       "\u001b[2m│\u001b[0m                                        \u001b[1;33mG_ACTION\u001b[0m\u001b[1;2;33m|\u001b[0m\u001b[1;33mACTIVE\u001b[0m\u001b[1;2;33m|\u001b[0m\u001b[1;33mSUSPENDED\u001b[0m\u001b[1;2;33m|\u001b[0m\u001b[1;33mCLOSED_CO\u001b[0m                                      \u001b[2m│\u001b[0m\n",
       "\u001b[2m│\u001b[0m                                        \u001b[1;33mNFIRMED_SECURITY_INCIDENT\u001b[0m\u001b[1;2;33m|\u001b[0m\u001b[1;33mCLOSED_AU\u001b[0m                                      \u001b[2m│\u001b[0m\n",
       "\u001b[2m│\u001b[0m                                        \u001b[1;33mTHORIZED_ACTIVITY\u001b[0m\u001b[1;2;33m|\u001b[0m\u001b[1;33mCLOSED_THREAT_MIT\u001b[0m                                      \u001b[2m│\u001b[0m\n",
       "\u001b[2m│\u001b[0m                                        \u001b[1;33mIGATED\u001b[0m\u001b[1;2;33m|\u001b[0m\u001b[1;33mCLOSED_NOT_VULNERABLE\u001b[0m\u001b[1;2;33m|\u001b[0m\u001b[1;33mCLOSED\u001b[0m                                      \u001b[2m│\u001b[0m\n",
       "\u001b[2m│\u001b[0m                                        \u001b[1;33m_FALSE_POSITIVE_ALERT\u001b[0m\u001b[1;2;33m|\u001b[0m\u001b[1;33mCLOSED_INCONC\u001b[0m                                      \u001b[2m│\u001b[0m\n",
       "\u001b[2m│\u001b[0m                                        \u001b[1;33mLUSIVE\u001b[0m\u001b[1;2;33m|\u001b[0m\u001b[1;33mCLOSED_INFORMATIONAL\u001b[0m\u001b[1;2;33m]\u001b[0m\u001b[1;33m       \u001b[0m                                      \u001b[2m│\u001b[0m\n",
       "\u001b[2m│\u001b[0m    \u001b[1;36m-\u001b[0m\u001b[1;36m-assignee\u001b[0m\u001b[1;36m-id\u001b[0m                       \u001b[1;33mTEXT                               \u001b[0m  \u001b[2m[default: @customer]\u001b[0m                \u001b[2m│\u001b[0m\n",
       "\u001b[2m│\u001b[0m    \u001b[1;36m-\u001b[0m\u001b[1;36m-database\u001b[0m                          \u001b[1;33mTEXT                               \u001b[0m  \u001b[2m[default: :memory:]\u001b[0m                 \u001b[2m│\u001b[0m\n",
       "\u001b[2m│\u001b[0m    \u001b[1;36m-\u001b[0m\u001b[1;36m-dry\u001b[0m\u001b[1;36m-run\u001b[0m           \u001b[1;35m-\u001b[0m\u001b[1;35m-no\u001b[0m\u001b[1;35m-dry-run\u001b[0m    \u001b[1;33m                                   \u001b[0m  \u001b[2m[default: no-dry-run]\u001b[0m               \u001b[2m│\u001b[0m\n",
       "\u001b[2m│\u001b[0m    \u001b[1;36m-\u001b[0m\u001b[1;36m-region\u001b[0m                            \u001b[1;33mTEXT                               \u001b[0m  \u001b[2m[default: None]\u001b[0m                     \u001b[2m│\u001b[0m\n",
       "\u001b[2m│\u001b[0m    \u001b[1;36m-\u001b[0m\u001b[1;36m-tenant\u001b[0m                            \u001b[1;33mTEXT                               \u001b[0m  \u001b[2m[default: None]\u001b[0m                     \u001b[2m│\u001b[0m\n",
       "\u001b[2m│\u001b[0m    \u001b[1;36m-\u001b[0m\u001b[1;36m-help\u001b[0m          \u001b[1;32m-h\u001b[0m                  \u001b[1;33m                                   \u001b[0m  Show this message and exit.         \u001b[2m│\u001b[0m\n",
       "\u001b[2m╰─────────────────────────────────────────────────────────────────────────────────────────────────────────────────╯\u001b[0m\n"
      ]
     },
     "metadata": {},
     "output_type": "display_data"
    },
    {
     "name": "stdout",
     "output_type": "stream",
     "text": [
      "\n"
     ]
    }
   ],
   "source": [
    "%taegis investigations create -h"
   ]
  },
  {
   "cell_type": "markdown",
   "metadata": {},
   "source": [
    "> Since the `taegis investigations create` command takes many arguments, it is easier to read if we break it across multiple lines.\n",
    "But do note that the `$VARIABLE` string expansion only works on the \"first line.\" So we need to ensure that we use escape characters (`\\`) so that it is interpreted as a single line."
   ]
  },
  {
   "cell_type": "code",
   "execution_count": 14,
   "metadata": {},
   "outputs": [
    {
     "data": {
      "text/html": [
       "<table border=\"1\" class=\"dataframe\">\n",
       "  <thead>\n",
       "    <tr style=\"text-align: right;\">\n",
       "      <th>id</th>\n",
       "      <th>tenant_id</th>\n",
       "      <th>query</th>\n",
       "      <th>results_returned</th>\n",
       "      <th>total_results</th>\n",
       "      <th>inserted_time</th>\n",
       "    </tr>\n",
       "  </thead>\n",
       "  <tbody>\n",
       "    <tr>\n",
       "      <td>52a4a04c-2397-48ae-ba82-f2f7e88c059b</td>\n",
       "      <td>145483</td>\n",
       "      <td>\\nFROM process\\nWHERE image_path contains 'sc.exe'\\nEARLIEST='2023-09-12T12:47:00'\\nLATEST='2023-09-12T13:05:00'\\n</td>\n",
       "      <td>172</td>\n",
       "      <td>-1</td>\n",
       "      <td>2023-09-13T16:00:22Z</td>\n",
       "    </tr>\n",
       "    <tr>\n",
       "      <td>5b28d368-694e-41db-a9c6-82885c4f6890</td>\n",
       "      <td>145483</td>\n",
       "      <td>\\nFROM alert\\nWHERE metadata.severity &lt;= 0.6\\nEARLIEST='2023-09-12T12:47:00'\\nLATEST='2023-09-12T13:05:00'\\n</td>\n",
       "      <td>75</td>\n",
       "      <td>75</td>\n",
       "      <td>2023-09-13T16:00:06Z</td>\n",
       "    </tr>\n",
       "  </tbody>\n",
       "</table>"
      ],
      "text/markdown": [
       "<table border=\"1\" class=\"dataframe\">\n",
       "  <thead>\n",
       "    <tr style=\"text-align: right;\">\n",
       "      <th>id</th>\n",
       "      <th>tenant_id</th>\n",
       "      <th>query</th>\n",
       "      <th>results_returned</th>\n",
       "      <th>total_results</th>\n",
       "      <th>inserted_time</th>\n",
       "    </tr>\n",
       "  </thead>\n",
       "  <tbody>\n",
       "    <tr>\n",
       "      <td>52a4a04c-2397-48ae-ba82-f2f7e88c059b</td>\n",
       "      <td>145483</td>\n",
       "      <td>\\nFROM process\\nWHERE image_path contains 'sc.exe'\\nEARLIEST='2023-09-12T12:47:00'\\nLATEST='2023-09-12T13:05:00'\\n</td>\n",
       "      <td>172</td>\n",
       "      <td>-1</td>\n",
       "      <td>2023-09-13T16:00:22Z</td>\n",
       "    </tr>\n",
       "    <tr>\n",
       "      <td>5b28d368-694e-41db-a9c6-82885c4f6890</td>\n",
       "      <td>145483</td>\n",
       "      <td>\\nFROM alert\\nWHERE metadata.severity &lt;= 0.6\\nEARLIEST='2023-09-12T12:47:00'\\nLATEST='2023-09-12T13:05:00'\\n</td>\n",
       "      <td>75</td>\n",
       "      <td>75</td>\n",
       "      <td>2023-09-13T16:00:06Z</td>\n",
       "    </tr>\n",
       "  </tbody>\n",
       "</table>"
      ]
     },
     "metadata": {},
     "output_type": "display_data"
    },
    {
     "data": {
      "text/markdown": [
       "\n",
       "| Investigation ID  | Short ID                | Title                | Type                | Share Link           |\n",
       "| ----------------- | ----------------------- | -------------------- | ------------------- | -------------------- |\n",
       "| f41b68da-cc7e-48cf-9a70-31fe640f7944 | INV00004 | Tutorial 02: Exploratory Data Analysis | InvestigationType.THREAT_HUNT | https://foxtrot.taegis.secureworks.com/share/cfde1680-2773-4791-90ee-610d926a929c |\n"
      ]
     },
     "metadata": {},
     "output_type": "display_data"
    }
   ],
   "source": [
    "%taegis investigations search-queries stage\n",
    "%taegis investigations create \\\n",
    "--title \"Tutorial 02: Exploratory Data Analysis\" \\\n",
    "--key-findings key-findings.md \\\n",
    "--priority MEDIUM \\\n",
    "--type THREAT_HUNT \\\n",
    "--status OPEN \\\n",
    "--assignee-id @customer \\\n",
    "--region $TAEGIS_ENVIRONMENT \\\n",
    "--tenant $TAEGIS_TENANT_ID"
   ]
  },
  {
   "cell_type": "markdown",
   "metadata": {},
   "source": [
    "Now navigate to the Taegis tenant and environment that you specified earlier in the tutorial.\n",
    "You should now see a new investigation titled `Tutorial 02: Exploratory Data Analysis` that contains the relevant queries, evidence, and key findings!"
   ]
  },
  {
   "cell_type": "markdown",
   "metadata": {},
   "source": [
    "## Wrap-Up\n",
    "\n",
    "In this tutorial, we did the following:\n",
    "\n",
    "- Imported the Taegis Magic package\n",
    "- Used [Taegis Magic](https://github.com/secureworks/taegis-magic) to query relevant security data for a specific threat\n",
    "- Leveraged [`pandas`](https://pandas.pydata.org) to analyze query results and find evidence of a threat\n",
    "- Populated the key findings section of a Taegis investigation using markdown text\n",
    "- Created a threat hunting Taegis investigation with the key findings and linked to relevant alert and event evidence\n",
    "\n",
    "In the next tutorial, we will use these concepts and techniques to formalize a threat hunting procedure that can be repeated consistently and at scale."
   ]
  }
 ],
 "metadata": {
  "celltoolbar": "Tags",
  "kernelspec": {
   "display_name": "Python 3 (ipykernel)",
   "language": "python",
   "name": "python3"
  },
  "language_info": {
   "codemirror_mode": {
    "name": "ipython",
    "version": 3
   },
   "file_extension": ".py",
   "mimetype": "text/x-python",
   "name": "python",
   "nbconvert_exporter": "python",
   "pygments_lexer": "ipython3",
   "version": "3.11.4"
  }
 },
 "nbformat": 4,
 "nbformat_minor": 4
}
