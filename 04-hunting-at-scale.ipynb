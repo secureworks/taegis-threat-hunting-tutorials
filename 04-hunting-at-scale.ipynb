{
 "cells": [
  {
   "cell_type": "markdown",
   "metadata": {},
   "source": [
    "# Tutorial 4: Hunting at Scale\n",
    "\n",
    "## Objectives\n",
    "\n",
    "- Select threat hunting procedure(s)\n",
    "- Select target tenants to run hunting procedure(s)\n",
    "- Run multiple procedures in parallel\n",
    "- Analyze cached results across multiple notebooks\n",
    "\n",
    "![hunting-fan-out](images/hunting-fan-out.png)\n",
    "\n",
    "## Description\n",
    "\n",
    "This tutorial covers how to run concurrently threat hunting procedure across Taegis tenants.\n",
    "These techniques allow threat hunting operations to scale up using notebooks.\n",
    "\n",
    "## Step 1: Select Threat Hunting Procedure(s)\n",
    "\n",
    "> Before we begin, please ensure that the notebook kernel is set to `taegis-hunting-tutorials`.\n",
    "\n",
    "In the previous tutorial, we created a toy hunting procedure notebook that both describes and automates the steps to hunt for threats that manipulate Windows services to disable security controls.\n",
    "We strongly recommend storing threat hunting procedure notebooks under version control software, such as `git`.\n",
    "Version control helps ensure that hunters are running the same version of a hunting procedure.\n",
    "Before running a threat hunting procedure, it is advised to pull down the most recent changes from version control.\n",
    "\n",
    "As in the previous tutorial, we will list available threat hunting procedures:"
   ]
  },
  {
   "cell_type": "code",
   "execution_count": 1,
   "metadata": {},
   "outputs": [
    {
     "data": {
      "text/html": [
       "<div>\n",
       "<style scoped>\n",
       "    .dataframe tbody tr th:only-of-type {\n",
       "        vertical-align: middle;\n",
       "    }\n",
       "\n",
       "    .dataframe tbody tr th {\n",
       "        vertical-align: top;\n",
       "    }\n",
       "\n",
       "    .dataframe thead th {\n",
       "        text-align: right;\n",
       "    }\n",
       "</style>\n",
       "<table border=\"1\" class=\"dataframe\">\n",
       "  <thead>\n",
       "    <tr style=\"text-align: right;\">\n",
       "      <th></th>\n",
       "      <th>notebook_path</th>\n",
       "      <th>attack_technique_ids</th>\n",
       "      <th>data_sources</th>\n",
       "      <th>description</th>\n",
       "      <th>id</th>\n",
       "      <th>tags</th>\n",
       "      <th>title</th>\n",
       "    </tr>\n",
       "  </thead>\n",
       "  <tbody>\n",
       "    <tr>\n",
       "      <th>0</th>\n",
       "      <td>templates\\tutorial-03-my-first-hunting-procedu...</td>\n",
       "      <td>[TXXXX.XXX]</td>\n",
       "      <td>[scwx.process, scwx.auth]</td>\n",
       "      <td>Here is my first hunting procedure.</td>\n",
       "      <td>tutorial-03-my-first-hunting-procedure</td>\n",
       "      <td>[tutorial]</td>\n",
       "      <td>My First Hunting Procedure</td>\n",
       "    </tr>\n",
       "    <tr>\n",
       "      <th>1</th>\n",
       "      <td>templates\\tutorial-04-windows-service-manipula...</td>\n",
       "      <td>[T1562.001]</td>\n",
       "      <td>[scwx.process]</td>\n",
       "      <td>The goal of this procedure is to identify poss...</td>\n",
       "      <td>tutorial-04-example-procedure-abcd123</td>\n",
       "      <td>[windows]</td>\n",
       "      <td>Suspicious Windows Service Manipulation</td>\n",
       "    </tr>\n",
       "  </tbody>\n",
       "</table>\n",
       "</div>"
      ],
      "text/plain": [
       "                                       notebook_path attack_technique_ids  \\\n",
       "0  templates\\tutorial-03-my-first-hunting-procedu...          [TXXXX.XXX]   \n",
       "1  templates\\tutorial-04-windows-service-manipula...          [T1562.001]   \n",
       "\n",
       "                data_sources  \\\n",
       "0  [scwx.process, scwx.auth]   \n",
       "1             [scwx.process]   \n",
       "\n",
       "                                         description  \\\n",
       "0                Here is my first hunting procedure.   \n",
       "1  The goal of this procedure is to identify poss...   \n",
       "\n",
       "                                       id        tags  \\\n",
       "0  tutorial-03-my-first-hunting-procedure  [tutorial]   \n",
       "1   tutorial-04-example-procedure-abcd123   [windows]   \n",
       "\n",
       "                                      title  \n",
       "0                My First Hunting Procedure  \n",
       "1   Suspicious Windows Service Manipulation  "
      ]
     },
     "execution_count": 1,
     "metadata": {},
     "output_type": "execute_result"
    }
   ],
   "source": [
    "import pandas as pd\n",
    "import nbformat\n",
    "\n",
    "from pathlib import Path\n",
    "\n",
    "template_directory = Path(\"templates\")\n",
    "available_procedures = pd.DataFrame(\n",
    "    {\n",
    "        \"notebook_path\": notebook_path,\n",
    "        **nb.metadata.hunting,\n",
    "    }\n",
    "    for notebook_path in template_directory.glob(\"*.ipynb\")\n",
    "    if (nb := nbformat.read(notebook_path, as_version=nbformat.NO_CONVERT))\n",
    "    if \"hunting\" in nb.metadata\n",
    ")\n",
    "\n",
    "available_procedures.head()"
   ]
  },
  {
   "cell_type": "markdown",
   "metadata": {},
   "source": [
    "Let's find procedures related to a [specific MITRE ATT&CK technique ID](https://attack.mitre.org/techniques/T1562/), then grab the procedure notebooks paths and titles:"
   ]
  },
  {
   "cell_type": "code",
   "execution_count": 2,
   "metadata": {},
   "outputs": [
    {
     "data": {
      "text/plain": [
       "[Procedure(notebook_path=WindowsPath('templates/tutorial-04-windows-service-manipulation.ipynb'), title=' Suspicious Windows Service Manipulation')]"
      ]
     },
     "execution_count": 2,
     "metadata": {},
     "output_type": "execute_result"
    }
   ],
   "source": [
    "technique_of_interest = \"T1562\" # https://attack.mitre.org/techniques/T1562/\n",
    "\n",
    "procedures_by_technique_id = available_procedures.explode(\"attack_technique_ids\")\n",
    "\n",
    "related_to_specific_technique = procedures_by_technique_id[\n",
    "    procedures_by_technique_id.attack_technique_ids.str.contains(technique_of_interest)\n",
    "][[\"notebook_path\", \"title\"]].drop_duplicates()\n",
    "\n",
    "selected_procedures = list(related_to_specific_technique.itertuples(index=False, name=\"Procedure\"))\n",
    "selected_procedures"
   ]
  },
  {
   "cell_type": "markdown",
   "metadata": {},
   "source": [
    "We will run the procedure 'Suspicious Windows Service Manipulation' located in `templates/tutorial-04-windows-service-manipulation.ipynb` since it pertains to our MITRE ATT&CK technique of interest."
   ]
  },
  {
   "cell_type": "markdown",
   "metadata": {},
   "source": [
    "## Step 2: Select Target Tenants\n",
    "\n",
    "Hunting procedures can be executed concurrently across multiple Taegis tenants.\n",
    "To define the scope of the hunting procedure, we need to pick our desired Taegis environment and tenant IDs.\n",
    "\n",
    "We can use Taegis Magic to conveniently pull down tenant information.\n",
    "For MSSP partners, the `--filter-by-tenant-hierarchy` argument is particularly useful to enumerate all child tenants of a given parent tenant ID."
   ]
  },
  {
   "cell_type": "code",
   "execution_count": 3,
   "metadata": {},
   "outputs": [
    {
     "name": "stdout",
     "output_type": "stream",
     "text": [
      "usage: taegis_magic_parser [-h] [--assign NAME | --append NAME] [--display NAME] [--cache]\n",
      "\n",
      "options:\n",
      "  -h, --help      show this help message and exit\n",
      "  --assign NAME   Assign results as pandas DataFrame to NAME\n",
      "  --append NAME   Append results as pandas DataFrame to NAME\n",
      "  --display NAME  Display NAME as markdown table\n",
      "  --cache         Save output to cache / Load output from cache (if present)\n"
     ]
    },
    {
     "data": {
      "text/html": [
       "<pre style=\"white-space:pre;overflow-x:auto;line-height:normal;font-family:Menlo,'DejaVu Sans Mono',consolas,'Courier New',monospace\"><span style=\"font-weight: bold\">                                                                                                                   </span>\n",
       "<span style=\"font-weight: bold\"> </span><span style=\"color: #808000; text-decoration-color: #808000; font-weight: bold\">Usage: </span><span style=\"font-weight: bold\">taegis tenants search [OPTIONS]                                                                            </span>\n",
       "<span style=\"font-weight: bold\">                                                                                                                   </span>\n",
       "</pre>\n"
      ],
      "text/plain": [
       "\u001b[1m                                                                                                                   \u001b[0m\n",
       "\u001b[1m \u001b[0m\u001b[1;33mUsage: \u001b[0m\u001b[1mtaegis tenants search [OPTIONS]\u001b[0m\u001b[1m                                                                           \u001b[0m\u001b[1m \u001b[0m\n",
       "\u001b[1m                                                                                                                   \u001b[0m\n"
      ]
     },
     "metadata": {},
     "output_type": "display_data"
    },
    {
     "data": {
      "text/html": [
       "<pre style=\"white-space:pre;overflow-x:auto;line-height:normal;font-family:Menlo,'DejaVu Sans Mono',consolas,'Courier New',monospace\"> Search Taegis tenants.                                                                                            \n",
       "                                                                                                                   \n",
       "</pre>\n"
      ],
      "text/plain": [
       " Search Taegis tenants.                                                                                            \n",
       "                                                                                                                   \n"
      ]
     },
     "metadata": {},
     "output_type": "display_data"
    },
    {
     "data": {
      "text/html": [
       "<pre style=\"white-space:pre;overflow-x:auto;line-height:normal;font-family:Menlo,'DejaVu Sans Mono',consolas,'Courier New',monospace\"><span style=\"color: #7f7f7f; text-decoration-color: #7f7f7f\">╭─ Options ───────────────────────────────────────────────────────────────────────────────────────────────────────╮</span>\n",
       "<span style=\"color: #7f7f7f; text-decoration-color: #7f7f7f\">│</span> <span style=\"color: #008080; text-decoration-color: #008080; font-weight: bold\">--filter-by-name</span>                          <span style=\"color: #808000; text-decoration-color: #808000; font-weight: bold\">TEXT                         </span>  (supports wildcard %) or tenant id     <span style=\"color: #7f7f7f; text-decoration-color: #7f7f7f\">│</span>\n",
       "<span style=\"color: #7f7f7f; text-decoration-color: #7f7f7f\">│</span>                                                                          <span style=\"color: #7f7f7f; text-decoration-color: #7f7f7f\">[default: None]                   </span>     <span style=\"color: #7f7f7f; text-decoration-color: #7f7f7f\">│</span>\n",
       "<span style=\"color: #7f7f7f; text-decoration-color: #7f7f7f\">│</span> <span style=\"color: #008080; text-decoration-color: #008080; font-weight: bold\">--filter-by-tenant</span>                        <span style=\"color: #808000; text-decoration-color: #808000; font-weight: bold\">TEXT                         </span>  <span style=\"color: #7f7f7f; text-decoration-color: #7f7f7f\">[default: None]</span>                        <span style=\"color: #7f7f7f; text-decoration-color: #7f7f7f\">│</span>\n",
       "<span style=\"color: #7f7f7f; text-decoration-color: #7f7f7f\">│</span> <span style=\"color: #008080; text-decoration-color: #008080; font-weight: bold\">--filter-by-region</span>                        <span style=\"color: #808000; text-decoration-color: #808000; font-weight: bold\">TEXT                         </span>  <span style=\"color: #7f7f7f; text-decoration-color: #7f7f7f\">[default: None]</span>                        <span style=\"color: #7f7f7f; text-decoration-color: #7f7f7f\">│</span>\n",
       "<span style=\"color: #7f7f7f; text-decoration-color: #7f7f7f\">│</span> <span style=\"color: #008080; text-decoration-color: #008080; font-weight: bold\">--filter-by-service</span>                       <span style=\"color: #808000; text-decoration-color: #808000; font-weight: bold\">TEXT                         </span>  <span style=\"color: #7f7f7f; text-decoration-color: #7f7f7f\">[default: None]</span>                        <span style=\"color: #7f7f7f; text-decoration-color: #7f7f7f\">│</span>\n",
       "<span style=\"color: #7f7f7f; text-decoration-color: #7f7f7f\">│</span> <span style=\"color: #008080; text-decoration-color: #008080; font-weight: bold\">--filter-by-label-name</span>                    <span style=\"color: #808000; text-decoration-color: #808000; font-weight: bold\">TEXT                         </span>  <span style=\"color: #7f7f7f; text-decoration-color: #7f7f7f\">[default: None]</span>                        <span style=\"color: #7f7f7f; text-decoration-color: #7f7f7f\">│</span>\n",
       "<span style=\"color: #7f7f7f; text-decoration-color: #7f7f7f\">│</span> <span style=\"color: #008080; text-decoration-color: #008080; font-weight: bold\">--filter-by-label-value</span>                   <span style=\"color: #808000; text-decoration-color: #808000; font-weight: bold\">TEXT                         </span>  <span style=\"color: #008080; text-decoration-color: #008080; font-weight: bold\">--filter-by-label-name</span> is required for <span style=\"color: #7f7f7f; text-decoration-color: #7f7f7f\">│</span>\n",
       "<span style=\"color: #7f7f7f; text-decoration-color: #7f7f7f\">│</span>                                                                          use                                    <span style=\"color: #7f7f7f; text-decoration-color: #7f7f7f\">│</span>\n",
       "<span style=\"color: #7f7f7f; text-decoration-color: #7f7f7f\">│</span>                                                                          <span style=\"color: #7f7f7f; text-decoration-color: #7f7f7f\">[default: None]                       </span> <span style=\"color: #7f7f7f; text-decoration-color: #7f7f7f\">│</span>\n",
       "<span style=\"color: #7f7f7f; text-decoration-color: #7f7f7f\">│</span> <span style=\"color: #008080; text-decoration-color: #008080; font-weight: bold\">--filter-by-partner-subscription</span>          <span style=\"color: #808000; text-decoration-color: #808000; font-weight: bold\">TEXT                         </span>  <span style=\"color: #7f7f7f; text-decoration-color: #7f7f7f\">[default: None]</span>                        <span style=\"color: #7f7f7f; text-decoration-color: #7f7f7f\">│</span>\n",
       "<span style=\"color: #7f7f7f; text-decoration-color: #7f7f7f\">│</span> <span style=\"color: #008080; text-decoration-color: #008080; font-weight: bold\">--filter-by-requested-service</span>             <span style=\"color: #808000; text-decoration-color: #808000; font-weight: bold\">TEXT                         </span>  <span style=\"color: #7f7f7f; text-decoration-color: #7f7f7f\">[default: None]</span>                        <span style=\"color: #7f7f7f; text-decoration-color: #7f7f7f\">│</span>\n",
       "<span style=\"color: #7f7f7f; text-decoration-color: #7f7f7f\">│</span> <span style=\"color: #008080; text-decoration-color: #008080; font-weight: bold\">--filter-by-created-start-time</span>            <span style=\"color: #808000; text-decoration-color: #808000; font-weight: bold\">TEXT                         </span>  YYYY-MM-DDTHH:MM:SSZ <span style=\"color: #7f7f7f; text-decoration-color: #7f7f7f\">[default: None]</span>   <span style=\"color: #7f7f7f; text-decoration-color: #7f7f7f\">│</span>\n",
       "<span style=\"color: #7f7f7f; text-decoration-color: #7f7f7f\">│</span> <span style=\"color: #008080; text-decoration-color: #008080; font-weight: bold\">--filter-by-created-end-time</span>              <span style=\"color: #808000; text-decoration-color: #808000; font-weight: bold\">TEXT                         </span>  YYYY-MM-DDTHH:MM:SSZ <span style=\"color: #7f7f7f; text-decoration-color: #7f7f7f\">[default: None]</span>   <span style=\"color: #7f7f7f; text-decoration-color: #7f7f7f\">│</span>\n",
       "<span style=\"color: #7f7f7f; text-decoration-color: #7f7f7f\">│</span> <span style=\"color: #008080; text-decoration-color: #008080; font-weight: bold\">--filter-by-modified-start-time</span>           <span style=\"color: #808000; text-decoration-color: #808000; font-weight: bold\">TEXT                         </span>  YYYY-MM-DDTHH:MM:SSZ <span style=\"color: #7f7f7f; text-decoration-color: #7f7f7f\">[default: None]</span>   <span style=\"color: #7f7f7f; text-decoration-color: #7f7f7f\">│</span>\n",
       "<span style=\"color: #7f7f7f; text-decoration-color: #7f7f7f\">│</span> <span style=\"color: #008080; text-decoration-color: #008080; font-weight: bold\">--filter-by-modified-end-time</span>             <span style=\"color: #808000; text-decoration-color: #808000; font-weight: bold\">TEXT                         </span>  YYYY-MM-DDTHH:MM:SSZ <span style=\"color: #7f7f7f; text-decoration-color: #7f7f7f\">[default: None]</span>   <span style=\"color: #7f7f7f; text-decoration-color: #7f7f7f\">│</span>\n",
       "<span style=\"color: #7f7f7f; text-decoration-color: #7f7f7f\">│</span> <span style=\"color: #008080; text-decoration-color: #008080; font-weight: bold\">--filter-by-tenant-hierarchy</span>              <span style=\"color: #808000; text-decoration-color: #808000; font-weight: bold\">TEXT                         </span>  <span style=\"color: #7f7f7f; text-decoration-color: #7f7f7f\">[default: None]</span>                        <span style=\"color: #7f7f7f; text-decoration-color: #7f7f7f\">│</span>\n",
       "<span style=\"color: #7f7f7f; text-decoration-color: #7f7f7f\">│</span> <span style=\"color: #008080; text-decoration-color: #008080; font-weight: bold\">--sort-by-field</span>                           <span style=\"color: #bfbf7f; text-decoration-color: #bfbf7f; font-weight: bold\">[</span><span style=\"color: #808000; text-decoration-color: #808000; font-weight: bold\">Id</span><span style=\"color: #bfbf7f; text-decoration-color: #bfbf7f; font-weight: bold\">|</span><span style=\"color: #808000; text-decoration-color: #808000; font-weight: bold\">Name</span><span style=\"color: #bfbf7f; text-decoration-color: #bfbf7f; font-weight: bold\">|</span><span style=\"color: #808000; text-decoration-color: #808000; font-weight: bold\">CreatedAt</span><span style=\"color: #bfbf7f; text-decoration-color: #bfbf7f; font-weight: bold\">|</span><span style=\"color: #808000; text-decoration-color: #808000; font-weight: bold\">UpdatedAt</span><span style=\"color: #bfbf7f; text-decoration-color: #bfbf7f; font-weight: bold\">]</span>  <span style=\"color: #7f7f7f; text-decoration-color: #7f7f7f\">[default: TenantOrderField.ID]</span>         <span style=\"color: #7f7f7f; text-decoration-color: #7f7f7f\">│</span>\n",
       "<span style=\"color: #7f7f7f; text-decoration-color: #7f7f7f\">│</span> <span style=\"color: #008080; text-decoration-color: #008080; font-weight: bold\">--sort-order</span>                              <span style=\"color: #bfbf7f; text-decoration-color: #bfbf7f; font-weight: bold\">[</span><span style=\"color: #808000; text-decoration-color: #808000; font-weight: bold\">asc</span><span style=\"color: #bfbf7f; text-decoration-color: #bfbf7f; font-weight: bold\">|</span><span style=\"color: #808000; text-decoration-color: #808000; font-weight: bold\">desc</span><span style=\"color: #bfbf7f; text-decoration-color: #bfbf7f; font-weight: bold\">]</span><span style=\"color: #808000; text-decoration-color: #808000; font-weight: bold\">                   </span>  <span style=\"color: #7f7f7f; text-decoration-color: #7f7f7f\">[default: OrderDir.ASC]</span>                <span style=\"color: #7f7f7f; text-decoration-color: #7f7f7f\">│</span>\n",
       "<span style=\"color: #7f7f7f; text-decoration-color: #7f7f7f\">│</span> <span style=\"color: #008080; text-decoration-color: #008080; font-weight: bold\">--tenant</span>                                  <span style=\"color: #808000; text-decoration-color: #808000; font-weight: bold\">TEXT                         </span>  <span style=\"color: #7f7f7f; text-decoration-color: #7f7f7f\">[default: None]</span>                        <span style=\"color: #7f7f7f; text-decoration-color: #7f7f7f\">│</span>\n",
       "<span style=\"color: #7f7f7f; text-decoration-color: #7f7f7f\">│</span> <span style=\"color: #008080; text-decoration-color: #008080; font-weight: bold\">--region</span>                                  <span style=\"color: #808000; text-decoration-color: #808000; font-weight: bold\">TEXT                         </span>  <span style=\"color: #7f7f7f; text-decoration-color: #7f7f7f\">[default: None]</span>                        <span style=\"color: #7f7f7f; text-decoration-color: #7f7f7f\">│</span>\n",
       "<span style=\"color: #7f7f7f; text-decoration-color: #7f7f7f\">│</span> <span style=\"color: #008080; text-decoration-color: #008080; font-weight: bold\">--help</span>                            <span style=\"color: #008000; text-decoration-color: #008000; font-weight: bold\">-h</span>      <span style=\"color: #808000; text-decoration-color: #808000; font-weight: bold\">                             </span>  Show this message and exit.            <span style=\"color: #7f7f7f; text-decoration-color: #7f7f7f\">│</span>\n",
       "<span style=\"color: #7f7f7f; text-decoration-color: #7f7f7f\">╰─────────────────────────────────────────────────────────────────────────────────────────────────────────────────╯</span>\n",
       "</pre>\n"
      ],
      "text/plain": [
       "\u001b[2m╭─\u001b[0m\u001b[2m Options \u001b[0m\u001b[2m──────────────────────────────────────────────────────────────────────────────────────────────────────\u001b[0m\u001b[2m─╮\u001b[0m\n",
       "\u001b[2m│\u001b[0m \u001b[1;36m-\u001b[0m\u001b[1;36m-filter\u001b[0m\u001b[1;36m-by-name\u001b[0m                          \u001b[1;33mTEXT                         \u001b[0m  (supports wildcard %) or tenant id     \u001b[2m│\u001b[0m\n",
       "\u001b[2m│\u001b[0m                                                                          \u001b[2m[default: None]                   \u001b[0m     \u001b[2m│\u001b[0m\n",
       "\u001b[2m│\u001b[0m \u001b[1;36m-\u001b[0m\u001b[1;36m-filter\u001b[0m\u001b[1;36m-by-tenant\u001b[0m                        \u001b[1;33mTEXT                         \u001b[0m  \u001b[2m[default: None]\u001b[0m                        \u001b[2m│\u001b[0m\n",
       "\u001b[2m│\u001b[0m \u001b[1;36m-\u001b[0m\u001b[1;36m-filter\u001b[0m\u001b[1;36m-by-region\u001b[0m                        \u001b[1;33mTEXT                         \u001b[0m  \u001b[2m[default: None]\u001b[0m                        \u001b[2m│\u001b[0m\n",
       "\u001b[2m│\u001b[0m \u001b[1;36m-\u001b[0m\u001b[1;36m-filter\u001b[0m\u001b[1;36m-by-service\u001b[0m                       \u001b[1;33mTEXT                         \u001b[0m  \u001b[2m[default: None]\u001b[0m                        \u001b[2m│\u001b[0m\n",
       "\u001b[2m│\u001b[0m \u001b[1;36m-\u001b[0m\u001b[1;36m-filter\u001b[0m\u001b[1;36m-by-label-name\u001b[0m                    \u001b[1;33mTEXT                         \u001b[0m  \u001b[2m[default: None]\u001b[0m                        \u001b[2m│\u001b[0m\n",
       "\u001b[2m│\u001b[0m \u001b[1;36m-\u001b[0m\u001b[1;36m-filter\u001b[0m\u001b[1;36m-by-label-value\u001b[0m                   \u001b[1;33mTEXT                         \u001b[0m  \u001b[1;36m-\u001b[0m\u001b[1;36m-filter\u001b[0m\u001b[1;36m-by-label-name\u001b[0m is required for \u001b[2m│\u001b[0m\n",
       "\u001b[2m│\u001b[0m                                                                          use                                    \u001b[2m│\u001b[0m\n",
       "\u001b[2m│\u001b[0m                                                                          \u001b[2m[default: None]                       \u001b[0m \u001b[2m│\u001b[0m\n",
       "\u001b[2m│\u001b[0m \u001b[1;36m-\u001b[0m\u001b[1;36m-filter\u001b[0m\u001b[1;36m-by-partner-subscription\u001b[0m          \u001b[1;33mTEXT                         \u001b[0m  \u001b[2m[default: None]\u001b[0m                        \u001b[2m│\u001b[0m\n",
       "\u001b[2m│\u001b[0m \u001b[1;36m-\u001b[0m\u001b[1;36m-filter\u001b[0m\u001b[1;36m-by-requested-service\u001b[0m             \u001b[1;33mTEXT                         \u001b[0m  \u001b[2m[default: None]\u001b[0m                        \u001b[2m│\u001b[0m\n",
       "\u001b[2m│\u001b[0m \u001b[1;36m-\u001b[0m\u001b[1;36m-filter\u001b[0m\u001b[1;36m-by-created-start-time\u001b[0m            \u001b[1;33mTEXT                         \u001b[0m  YYYY-MM-DDTHH:MM:SSZ \u001b[2m[default: None]\u001b[0m   \u001b[2m│\u001b[0m\n",
       "\u001b[2m│\u001b[0m \u001b[1;36m-\u001b[0m\u001b[1;36m-filter\u001b[0m\u001b[1;36m-by-created-end-time\u001b[0m              \u001b[1;33mTEXT                         \u001b[0m  YYYY-MM-DDTHH:MM:SSZ \u001b[2m[default: None]\u001b[0m   \u001b[2m│\u001b[0m\n",
       "\u001b[2m│\u001b[0m \u001b[1;36m-\u001b[0m\u001b[1;36m-filter\u001b[0m\u001b[1;36m-by-modified-start-time\u001b[0m           \u001b[1;33mTEXT                         \u001b[0m  YYYY-MM-DDTHH:MM:SSZ \u001b[2m[default: None]\u001b[0m   \u001b[2m│\u001b[0m\n",
       "\u001b[2m│\u001b[0m \u001b[1;36m-\u001b[0m\u001b[1;36m-filter\u001b[0m\u001b[1;36m-by-modified-end-time\u001b[0m             \u001b[1;33mTEXT                         \u001b[0m  YYYY-MM-DDTHH:MM:SSZ \u001b[2m[default: None]\u001b[0m   \u001b[2m│\u001b[0m\n",
       "\u001b[2m│\u001b[0m \u001b[1;36m-\u001b[0m\u001b[1;36m-filter\u001b[0m\u001b[1;36m-by-tenant-hierarchy\u001b[0m              \u001b[1;33mTEXT                         \u001b[0m  \u001b[2m[default: None]\u001b[0m                        \u001b[2m│\u001b[0m\n",
       "\u001b[2m│\u001b[0m \u001b[1;36m-\u001b[0m\u001b[1;36m-sort\u001b[0m\u001b[1;36m-by-field\u001b[0m                           \u001b[1;2;33m[\u001b[0m\u001b[1;33mId\u001b[0m\u001b[1;2;33m|\u001b[0m\u001b[1;33mName\u001b[0m\u001b[1;2;33m|\u001b[0m\u001b[1;33mCreatedAt\u001b[0m\u001b[1;2;33m|\u001b[0m\u001b[1;33mUpdatedAt\u001b[0m\u001b[1;2;33m]\u001b[0m  \u001b[2m[default: TenantOrderField.ID]\u001b[0m         \u001b[2m│\u001b[0m\n",
       "\u001b[2m│\u001b[0m \u001b[1;36m-\u001b[0m\u001b[1;36m-sort\u001b[0m\u001b[1;36m-order\u001b[0m                              \u001b[1;2;33m[\u001b[0m\u001b[1;33masc\u001b[0m\u001b[1;2;33m|\u001b[0m\u001b[1;33mdesc\u001b[0m\u001b[1;2;33m]\u001b[0m\u001b[1;33m                   \u001b[0m  \u001b[2m[default: OrderDir.ASC]\u001b[0m                \u001b[2m│\u001b[0m\n",
       "\u001b[2m│\u001b[0m \u001b[1;36m-\u001b[0m\u001b[1;36m-tenant\u001b[0m                                  \u001b[1;33mTEXT                         \u001b[0m  \u001b[2m[default: None]\u001b[0m                        \u001b[2m│\u001b[0m\n",
       "\u001b[2m│\u001b[0m \u001b[1;36m-\u001b[0m\u001b[1;36m-region\u001b[0m                                  \u001b[1;33mTEXT                         \u001b[0m  \u001b[2m[default: None]\u001b[0m                        \u001b[2m│\u001b[0m\n",
       "\u001b[2m│\u001b[0m \u001b[1;36m-\u001b[0m\u001b[1;36m-help\u001b[0m                            \u001b[1;32m-h\u001b[0m      \u001b[1;33m                             \u001b[0m  Show this message and exit.            \u001b[2m│\u001b[0m\n",
       "\u001b[2m╰─────────────────────────────────────────────────────────────────────────────────────────────────────────────────╯\u001b[0m\n"
      ]
     },
     "metadata": {},
     "output_type": "display_data"
    },
    {
     "name": "stdout",
     "output_type": "stream",
     "text": [
      "\n"
     ]
    }
   ],
   "source": [
    "%load_ext taegis_magic\n",
    "\n",
    "%taegis tenants search -h"
   ]
  },
  {
   "cell_type": "markdown",
   "metadata": {},
   "source": [
    "For this tutorial, however, we will define a list of tenant IDs in the `foxtrot` environment as the scope for the selected procedure.\n",
    "\n",
    "> You can populate `tenants_in_scope` with the environments and tenants that your user is authorized to access."
   ]
  },
  {
   "cell_type": "code",
   "execution_count": 4,
   "metadata": {},
   "outputs": [],
   "source": [
    "tenants_in_scope = {\n",
    "    #\"charlie\": [\"111111\", \"222222\"],\n",
    "    #\"delta\": [\"333333\", \"444444\"],\n",
    "    #\"echo\": [\"5555555\", \"6666666\"]\n",
    "    \"foxtrot\": [\"145483\", \"145485\", \"145487\"],\n",
    "}"
   ]
  },
  {
   "cell_type": "markdown",
   "metadata": {},
   "source": [
    "## Step 3: Run Hunting Procedure(s)\n",
    "\n",
    "> **Regarding Authentication**\n",
    ">\n",
    "> For demonstration purposes, we are running the procedures as the logged-in user.\n",
    "> If you are not already logged-in, you can force a log-in with this command:\n",
    ">\n",
    "> `%taegis users current-user --region <environment-to-log-in-to>`\n",
    ">\n",
    "> When hunting at scale, we strongly suggest creating an OAuth client to perform hunting procedures. \n",
    "> Please see the Taegis SDK for Python [authentication docs](https://github.com/secureworks/taegis-sdk-python/blob/main/docs/authentication.md) for more details.\n",
    "\n",
    "In the previous tutorial, we used `papermill` to parameterize a single instance of a hunting procedure.\n",
    "This time we will use [`concurrent.futures`](https://docs.python.org/3/library/concurrent.futures.html) to parameterize multiple instances of the procedures and execute them in parallel across separate processes.\n",
    "`papermill` will execute each notebook from top to bottom, as if the user clicked `Restart -> Run All` in the Jupyter Notebook web interface."
   ]
  },
  {
   "cell_type": "code",
   "execution_count": 5,
   "metadata": {},
   "outputs": [
    {
     "name": "stdout",
     "output_type": "stream",
     "text": [
      "1/3 (Procedure(notebook_path=WindowsPath('templates/tutorial-04-windows-service-manipulation.ipynb'), title=' Suspicious Windows Service Manipulation'), 'foxtrot', '145483') Finished!\n",
      "2/3 (Procedure(notebook_path=WindowsPath('templates/tutorial-04-windows-service-manipulation.ipynb'), title=' Suspicious Windows Service Manipulation'), 'foxtrot', '145485') Finished!\n",
      "3/3 (Procedure(notebook_path=WindowsPath('templates/tutorial-04-windows-service-manipulation.ipynb'), title=' Suspicious Windows Service Manipulation'), 'foxtrot', '145487') Finished!\n"
     ]
    }
   ],
   "source": [
    "import papermill as pm\n",
    "\n",
    "from concurrent.futures import as_completed, ProcessPoolExecutor\n",
    "from pathlib import Path\n",
    "\n",
    "\n",
    "with ProcessPoolExecutor(max_workers=3) as executor:\n",
    "    executed_procedures = {}\n",
    "    for procedure in selected_procedures:\n",
    "        for taegis_environment, taegis_tenants in tenants_in_scope.items():\n",
    "            for tenant_id in taegis_tenants:\n",
    "\n",
    "                output_dir = Path(\"output\") / taegis_environment / tenant_id\n",
    "                output_dir.mkdir(exist_ok=True, parents=True)\n",
    "                output_notebook_path = str(output_dir / procedure.notebook_path.name)\n",
    "\n",
    "                executed_procedures[\n",
    "                    executor.submit(\n",
    "                        pm.execute_notebook,\n",
    "                        input_path=procedure.notebook_path,\n",
    "                        output_path=output_notebook_path,\n",
    "                        parameters=dict(\n",
    "                            TAEGIS_TENANT_ID=tenant_id,\n",
    "                            TAEGIS_ENVIRONMENT=taegis_environment,\n",
    "                            INVESTIGATION_TITLE=procedure.title,\n",
    "                            TAEGIS_MAGIC_NOTEBOOK_PATH=output_notebook_path,\n",
    "                        ),\n",
    "                        request_save_on_cell_execute=True,\n",
    "                        cwd=output_dir,\n",
    "                    )\n",
    "                ] = (procedure, taegis_environment, tenant_id)\n",
    "\n",
    "    # Wait for the notebooks to finish running\n",
    "    # and log exceptions as they occur.\n",
    "    for i, executed_procedure in enumerate(as_completed(executed_procedures)):\n",
    "        procedure_scope = executed_procedures[executed_procedure]\n",
    "        print(f\"{i+1}/{len(executed_procedures.keys())} {procedure_scope} Finished!\")\n",
    "        exc = executed_procedure.exception()\n",
    "        if exc:\n",
    "            print(procedure_scope, exc)\n",
    "    "
   ]
  },
  {
   "cell_type": "markdown",
   "metadata": {},
   "source": [
    "As `papermill` executes each notebook, it will save the notebooks to `output` directory partitioned by environment and tenant ID:\n",
    "\n",
    "```\n",
    "/output\n",
    "    /foxtrot\n",
    "        /145483\n",
    "            tutorial-04-windows-service-manipulation.ipynb\n",
    "        /145487\n",
    "            tutorial-04-windows-service-manipulation.ipynb\n",
    "        /145485\n",
    "            tutorial-04-windows-service-manipulation.ipynb\n",
    "            \n",
    "```"
   ]
  },
  {
   "cell_type": "markdown",
   "metadata": {},
   "source": [
    "## Step 4: Review Results\n",
    "\n",
    "It is helpful to review the executed notebooks for a given procedure in aggregate.\n",
    "This gives the hunter an opportunity to survey the success rate of the procedure (how many completed successfully relative to the number of tenants in scope).\n",
    "It also identifies tenants where the procedure may have returned the maximum number of query results, in which case refinement of the procedure might be necessary.\n",
    "But most importantly, it may tell threat hunters which tenants need manual analysis and which do not.\n",
    "\n",
    "**Performance Metrics**\n",
    "\n",
    "`papermill` conveniently adds metadata to track execution times and whether or not an exception was raised during execution.\n",
    "We can parse the metadata from the executed notebooks to see how well the procedure ran across our target tenants."
   ]
  },
  {
   "cell_type": "code",
   "execution_count": 6,
   "metadata": {},
   "outputs": [
    {
     "data": {
      "text/html": [
       "<div>\n",
       "<style scoped>\n",
       "    .dataframe tbody tr th:only-of-type {\n",
       "        vertical-align: middle;\n",
       "    }\n",
       "\n",
       "    .dataframe tbody tr th {\n",
       "        vertical-align: top;\n",
       "    }\n",
       "\n",
       "    .dataframe thead th {\n",
       "        text-align: right;\n",
       "    }\n",
       "</style>\n",
       "<table border=\"1\" class=\"dataframe\">\n",
       "  <thead>\n",
       "    <tr style=\"text-align: right;\">\n",
       "      <th></th>\n",
       "      <th>notebook_path</th>\n",
       "      <th>papermill.exception</th>\n",
       "      <th>papermill.start_time</th>\n",
       "      <th>papermill.end_time</th>\n",
       "    </tr>\n",
       "  </thead>\n",
       "  <tbody>\n",
       "    <tr>\n",
       "      <th>0</th>\n",
       "      <td>output\\instance-of-my-first-hunting-procedure....</td>\n",
       "      <td>NaN</td>\n",
       "      <td>NaN</td>\n",
       "      <td>NaN</td>\n",
       "    </tr>\n",
       "    <tr>\n",
       "      <th>1</th>\n",
       "      <td>output\\foxtrot\\145483\\tutorial-04-windows-serv...</td>\n",
       "      <td>NaN</td>\n",
       "      <td>2023-09-13T14:49:20.548323</td>\n",
       "      <td>2023-09-13T14:49:59.498138</td>\n",
       "    </tr>\n",
       "    <tr>\n",
       "      <th>2</th>\n",
       "      <td>output\\foxtrot\\145485\\tutorial-04-windows-serv...</td>\n",
       "      <td>NaN</td>\n",
       "      <td>2023-09-13T14:49:20.550323</td>\n",
       "      <td>2023-09-13T14:50:00.277414</td>\n",
       "    </tr>\n",
       "    <tr>\n",
       "      <th>3</th>\n",
       "      <td>output\\foxtrot\\145487\\tutorial-04-windows-serv...</td>\n",
       "      <td>NaN</td>\n",
       "      <td>2023-09-13T14:49:20.548323</td>\n",
       "      <td>2023-09-13T14:50:00.895200</td>\n",
       "    </tr>\n",
       "  </tbody>\n",
       "</table>\n",
       "</div>"
      ],
      "text/plain": [
       "                                       notebook_path  papermill.exception  \\\n",
       "0  output\\instance-of-my-first-hunting-procedure....                  NaN   \n",
       "1  output\\foxtrot\\145483\\tutorial-04-windows-serv...                  NaN   \n",
       "2  output\\foxtrot\\145485\\tutorial-04-windows-serv...                  NaN   \n",
       "3  output\\foxtrot\\145487\\tutorial-04-windows-serv...                  NaN   \n",
       "\n",
       "         papermill.start_time          papermill.end_time  \n",
       "0                         NaN                         NaN  \n",
       "1  2023-09-13T14:49:20.548323  2023-09-13T14:49:59.498138  \n",
       "2  2023-09-13T14:49:20.550323  2023-09-13T14:50:00.277414  \n",
       "3  2023-09-13T14:49:20.548323  2023-09-13T14:50:00.895200  "
      ]
     },
     "execution_count": 6,
     "metadata": {},
     "output_type": "execute_result"
    }
   ],
   "source": [
    "# Our chosen output directory\n",
    "output_directory = Path(\"output\")\n",
    "\n",
    "executed_notebooks_df = pd.json_normalize(\n",
    "    {\n",
    "        \"notebook_path\": notebook_path,\n",
    "        **nb.metadata,\n",
    "    }\n",
    "    for notebook_path in output_directory.rglob(\"*.ipynb\")\n",
    "    if (nb := nbformat.read(notebook_path, as_version=nbformat.NO_CONVERT))\n",
    "    if \".ipynb_checkpoints\" not in str(notebook_path)\n",
    ")\n",
    "\n",
    "executed_notebooks_df[[\"notebook_path\", \"papermill.exception\", \"papermill.start_time\", \"papermill.end_time\"]]"
   ]
  },
  {
   "cell_type": "markdown",
   "metadata": {},
   "source": [
    "In this case, all three notebooks ran without exception across the tenants in scope.\n",
    "Notebooks that raise exceptions usually require manual review.\n",
    "Threat hunters can simply open the problematic notebook and view the stack trace, as if they ran into the exception interactively.\n",
    "\n",
    "> `papermill` also adds runtime metadata to each cell.\n",
    "> Reviewing cell-level metadata is helpful for identifying problematic queries or logic across many procedure results.\n",
    "\n",
    "**Cached Query Results**\n",
    "\n",
    "If you open one of the executed notebooks, it looks no different than if you ran the notebook manually.\n",
    "\n",
    "You can re-execute the notebook to analyze the results, but you might notice that Taegis Magic queries containing the `--cache` flag return _very_ quickly.\n",
    "This is because the magics cached those results when the notebook was executed previously by `papermill`.\n",
    "Re-running a cached query cell will return the cached results rather than perform the query again.\n",
    "Changing the cell contents of a query cell containing cached results will invalidate the cache and subsequent queries will clear any cached data and will fetch new query results from Taegis.\n",
    "\n",
    "This caching behavior is the primary mechanism that enables per-tenant hunting procedures to scale across many tenants.\n",
    "Each hunting procedure is executed - without human interaction - for each tenant, and across all tenants, in scope.\n",
    "All query results are cached into the respective output notebook for a given combination of procedure and tenant.\n",
    "\n",
    "To take a closer look at the executed notebooks, we can extract all the cached query results:"
   ]
  },
  {
   "cell_type": "code",
   "execution_count": 7,
   "metadata": {},
   "outputs": [
    {
     "data": {
      "text/html": [
       "<div>\n",
       "<style scoped>\n",
       "    .dataframe tbody tr th:only-of-type {\n",
       "        vertical-align: middle;\n",
       "    }\n",
       "\n",
       "    .dataframe tbody tr th {\n",
       "        vertical-align: top;\n",
       "    }\n",
       "\n",
       "    .dataframe thead th {\n",
       "        text-align: right;\n",
       "    }\n",
       "</style>\n",
       "<table border=\"1\" class=\"dataframe\">\n",
       "  <thead>\n",
       "    <tr style=\"text-align: right;\">\n",
       "      <th></th>\n",
       "      <th>environment</th>\n",
       "      <th>tenant_id</th>\n",
       "      <th>cache_name</th>\n",
       "      <th>service</th>\n",
       "      <th>num_results</th>\n",
       "    </tr>\n",
       "  </thead>\n",
       "  <tbody>\n",
       "    <tr>\n",
       "      <th>0</th>\n",
       "      <td>foxtrot</td>\n",
       "      <td>145483</td>\n",
       "      <td>sc_alerts</td>\n",
       "      <td>alerts</td>\n",
       "      <td>4</td>\n",
       "    </tr>\n",
       "    <tr>\n",
       "      <th>1</th>\n",
       "      <td>foxtrot</td>\n",
       "      <td>145483</td>\n",
       "      <td>sc_processes</td>\n",
       "      <td>events</td>\n",
       "      <td>172</td>\n",
       "    </tr>\n",
       "    <tr>\n",
       "      <th>2</th>\n",
       "      <td>foxtrot</td>\n",
       "      <td>145485</td>\n",
       "      <td>sc_alerts</td>\n",
       "      <td>alerts</td>\n",
       "      <td>4</td>\n",
       "    </tr>\n",
       "    <tr>\n",
       "      <th>3</th>\n",
       "      <td>foxtrot</td>\n",
       "      <td>145485</td>\n",
       "      <td>sc_processes</td>\n",
       "      <td>events</td>\n",
       "      <td>146</td>\n",
       "    </tr>\n",
       "    <tr>\n",
       "      <th>4</th>\n",
       "      <td>foxtrot</td>\n",
       "      <td>145487</td>\n",
       "      <td>sc_alerts</td>\n",
       "      <td>alerts</td>\n",
       "      <td>4</td>\n",
       "    </tr>\n",
       "    <tr>\n",
       "      <th>5</th>\n",
       "      <td>foxtrot</td>\n",
       "      <td>145487</td>\n",
       "      <td>sc_processes</td>\n",
       "      <td>events</td>\n",
       "      <td>222</td>\n",
       "    </tr>\n",
       "  </tbody>\n",
       "</table>\n",
       "</div>"
      ],
      "text/plain": [
       "  environment tenant_id    cache_name service  num_results\n",
       "0     foxtrot    145483     sc_alerts  alerts            4\n",
       "1     foxtrot    145483  sc_processes  events          172\n",
       "2     foxtrot    145485     sc_alerts  alerts            4\n",
       "3     foxtrot    145485  sc_processes  events          146\n",
       "4     foxtrot    145487     sc_alerts  alerts            4\n",
       "5     foxtrot    145487  sc_processes  events          222"
      ]
     },
     "execution_count": 7,
     "metadata": {},
     "output_type": "execute_result"
    }
   ],
   "source": [
    "from taegis_magic.core.cache import get_cached_objects, get_cache_list\n",
    "\n",
    "cached_results = []\n",
    "\n",
    "for executed_notebook_path in output_directory.rglob(\"*.ipynb\"):\n",
    "\n",
    "    cache_ids = [cache_id for cache_id in get_cache_list(executed_notebook_path) if cache_id[0]]\n",
    "    cache_data = get_cached_objects(executed_notebook_path)\n",
    "    cached_results.extend([\n",
    "\n",
    "        {\n",
    "            \"notebook_path\": executed_notebook_path,\n",
    "            \"tenant_id\": cached_object.tenant_id,\n",
    "            \"environment\": cached_object.region,\n",
    "            \"service\": cached_object.service,\n",
    "            \"cache_name\": cache_name,\n",
    "            \"cache_hash\": cache_hash,\n",
    "            \"query\": cached_object.query,\n",
    "            \"num_results\": len(cached_object.results),\n",
    "\n",
    "            # The memory requirements may exceed available resources\n",
    "            # when running over a very large number of tenants.\n",
    "            # Exclude as necessary.\n",
    "            \"results_as_dataframe\": pd.json_normalize(cached_object.results)\n",
    "        }\n",
    "        for (cache_name, cache_hash), cached_object in zip(cache_ids, cache_data)\n",
    "\n",
    "    ])\n",
    "\n",
    "cached_results_df = pd.DataFrame(cached_results)\n",
    "cached_results_df[[\"environment\", \"tenant_id\", \"cache_name\", \"service\", \"num_results\"]]"
   ]
  },
  {
   "cell_type": "markdown",
   "metadata": {},
   "source": [
    "All three tenants in scope returned between ~150-225 results for the `sc_processes` events query.\n",
    "\n",
    "**Aggregate Analysis**\n",
    "\n",
    "Lastly, we can analyze the actual query results as DataFrames.\n",
    "Hunters can filter down to a specific cached query result:"
   ]
  },
  {
   "cell_type": "code",
   "execution_count": 8,
   "metadata": {},
   "outputs": [
    {
     "data": {
      "text/html": [
       "<div>\n",
       "<style scoped>\n",
       "    .dataframe tbody tr th:only-of-type {\n",
       "        vertical-align: middle;\n",
       "    }\n",
       "\n",
       "    .dataframe tbody tr th {\n",
       "        vertical-align: top;\n",
       "    }\n",
       "\n",
       "    .dataframe thead th {\n",
       "        text-align: right;\n",
       "    }\n",
       "</style>\n",
       "<table border=\"1\" class=\"dataframe\">\n",
       "  <thead>\n",
       "    <tr style=\"text-align: right;\">\n",
       "      <th></th>\n",
       "      <th>resource_id</th>\n",
       "      <th>event_time_usec</th>\n",
       "      <th>image_path</th>\n",
       "      <th>commandline</th>\n",
       "    </tr>\n",
       "  </thead>\n",
       "  <tbody>\n",
       "    <tr>\n",
       "      <th>0</th>\n",
       "      <td>event://priv:scwx.process:145483:1694526736000...</td>\n",
       "      <td>1694523086252289</td>\n",
       "      <td>\\Device\\HarddiskVolume2\\Windows\\System32\\sc.exe</td>\n",
       "      <td>sc stop wuauserv</td>\n",
       "    </tr>\n",
       "    <tr>\n",
       "      <th>1</th>\n",
       "      <td>event://priv:scwx.process:145483:1694523904000...</td>\n",
       "      <td>1694523086252289</td>\n",
       "      <td>\\Device\\HarddiskVolume2\\Windows\\System32\\sc.exe</td>\n",
       "      <td>sc stop wuauserv</td>\n",
       "    </tr>\n",
       "    <tr>\n",
       "      <th>2</th>\n",
       "      <td>event://priv:scwx.process:145483:1694524756000...</td>\n",
       "      <td>1694523086252289</td>\n",
       "      <td>\\Device\\HarddiskVolume2\\Windows\\System32\\sc.exe</td>\n",
       "      <td>sc stop wuauserv</td>\n",
       "    </tr>\n",
       "    <tr>\n",
       "      <th>3</th>\n",
       "      <td>event://priv:scwx.process:145483:1694526291000...</td>\n",
       "      <td>1694523086252289</td>\n",
       "      <td>\\Device\\HarddiskVolume2\\Windows\\System32\\sc.exe</td>\n",
       "      <td>sc stop wuauserv</td>\n",
       "    </tr>\n",
       "    <tr>\n",
       "      <th>4</th>\n",
       "      <td>event://priv:scwx.process:145483:1694527486000...</td>\n",
       "      <td>1694523086252289</td>\n",
       "      <td>\\Device\\HarddiskVolume2\\Windows\\System32\\sc.exe</td>\n",
       "      <td>sc stop wuauserv</td>\n",
       "    </tr>\n",
       "  </tbody>\n",
       "</table>\n",
       "</div>"
      ],
      "text/plain": [
       "                                         resource_id   event_time_usec  \\\n",
       "0  event://priv:scwx.process:145483:1694526736000...  1694523086252289   \n",
       "1  event://priv:scwx.process:145483:1694523904000...  1694523086252289   \n",
       "2  event://priv:scwx.process:145483:1694524756000...  1694523086252289   \n",
       "3  event://priv:scwx.process:145483:1694526291000...  1694523086252289   \n",
       "4  event://priv:scwx.process:145483:1694527486000...  1694523086252289   \n",
       "\n",
       "                                        image_path       commandline  \n",
       "0  \\Device\\HarddiskVolume2\\Windows\\System32\\sc.exe  sc stop wuauserv  \n",
       "1  \\Device\\HarddiskVolume2\\Windows\\System32\\sc.exe  sc stop wuauserv  \n",
       "2  \\Device\\HarddiskVolume2\\Windows\\System32\\sc.exe  sc stop wuauserv  \n",
       "3  \\Device\\HarddiskVolume2\\Windows\\System32\\sc.exe  sc stop wuauserv  \n",
       "4  \\Device\\HarddiskVolume2\\Windows\\System32\\sc.exe  sc stop wuauserv  "
      ]
     },
     "execution_count": 8,
     "metadata": {},
     "output_type": "execute_result"
    }
   ],
   "source": [
    "cached_results_df[\n",
    "    (cached_results_df.tenant_id == \"145483\") &\n",
    "    (cached_results_df.cache_name == \"sc_processes\")\n",
    "].iloc[0].results_as_dataframe[[\"resource_id\", \"event_time_usec\", \"image_path\", \"commandline\"]].head()"
   ]
  },
  {
   "cell_type": "markdown",
   "metadata": {},
   "source": [
    "While hunting procedures are designed and executed on a per-tenant basis, threat hunters can review the query results for a cached query in a given procedure across all tenants at once.\n",
    "This is a powerful technique to get a \"macro\" view of the data across many tenants."
   ]
  },
  {
   "cell_type": "code",
   "execution_count": 9,
   "metadata": {},
   "outputs": [
    {
     "name": "stdout",
     "output_type": "stream",
     "text": [
      "<class 'pandas.core.frame.DataFrame'>\n",
      "RangeIndex: 540 entries, 0 to 539\n",
      "Data columns (total 92 columns):\n",
      " #   Column                                   Non-Null Count  Dtype  \n",
      "---  ------                                   --------------  -----  \n",
      " 0   allocations                              0 non-null      object \n",
      " 1   commandline                              540 non-null    object \n",
      " 2   commandline_decoded                      540 non-null    object \n",
      " 3   commandline_decoder                      0 non-null      object \n",
      " 4   computer_name                            540 non-null    object \n",
      " 5   enrichSummary                            540 non-null    object \n",
      " 6   enrichedHostnames                        0 non-null      object \n",
      " 7   event_time_fidelity                      540 non-null    object \n",
      " 8   event_time_usec                          540 non-null    int64  \n",
      " 9   external_uris                            0 non-null      object \n",
      " 10  gid                                      540 non-null    object \n",
      " 11  hidden                                   540 non-null    object \n",
      " 12  host_id                                  540 non-null    object \n",
      " 13  host_module                              0 non-null      object \n",
      " 14  host_program                             0 non-null      object \n",
      " 15  hostname                                 540 non-null    object \n",
      " 16  iSensorEnriched                          540 non-null    bool   \n",
      " 17  image_path                               540 non-null    object \n",
      " 18  ingest_time_usec                         540 non-null    int64  \n",
      " 19  modules                                  0 non-null      object \n",
      " 20  normalizer                               540 non-null    object \n",
      " 21  normalizer_revision                      540 non-null    object \n",
      " 22  normalizer_version                       540 non-null    object \n",
      " 23  original_data                            540 non-null    object \n",
      " 24  parent_create_time_usec                  540 non-null    int64  \n",
      " 25  parent_image_path                        540 non-null    object \n",
      " 26  parent_process_correlation_id            540 non-null    object \n",
      " 27  parent_process_id                        540 non-null    object \n",
      " 28  parent_timewindow                        540 non-null    int64  \n",
      " 29  parent_username                          540 non-null    object \n",
      " 30  parent_windows_sid                       540 non-null    object \n",
      " 31  pivot                                    540 non-null    object \n",
      " 32  process                                  540 non-null    object \n",
      " 33  process_correlation_id                   540 non-null    object \n",
      " 34  process_create_time_usec                 540 non-null    int64  \n",
      " 35  process_id                               540 non-null    object \n",
      " 36  process_is_admin                         540 non-null    bool   \n",
      " 37  process_timewindow                       540 non-null    int64  \n",
      " 38  process_uuid                             540 non-null    object \n",
      " 39  real_pid                                 540 non-null    object \n",
      " 40  resource_id                              540 non-null    object \n",
      " 41  sensor_cpe                               540 non-null    object \n",
      " 42  sensor_event_id                          540 non-null    object \n",
      " 43  sensor_id                                540 non-null    object \n",
      " 44  sensor_tenant                            540 non-null    object \n",
      " 45  sensor_type                              540 non-null    object \n",
      " 46  sensor_version                           540 non-null    object \n",
      " 47  summaryEnriched                          540 non-null    bool   \n",
      " 48  tenant_id                                540 non-null    object \n",
      " 49  uid                                      540 non-null    object \n",
      " 50  user_is_admin                            540 non-null    bool   \n",
      " 51  username                                 540 non-null    object \n",
      " 52  visibility                               540 non-null    object \n",
      " 53  was_blocked                              540 non-null    bool   \n",
      " 54  windows_sid                              540 non-null    object \n",
      " 55  enrichments.attack_technique_ids         532 non-null    object \n",
      " 56  enrichments.rule_id_to_techniques        532 non-null    object \n",
      " 57  os.arch                                  540 non-null    object \n",
      " 58  os.metaos                                540 non-null    object \n",
      " 59  os.os                                    540 non-null    object \n",
      " 60  program_hash.md5                         540 non-null    object \n",
      " 61  program_hash.sha1                        540 non-null    object \n",
      " 62  program_hash.sha256                      540 non-null    object \n",
      " 63  program_hash.sha512                      540 non-null    object \n",
      " 64  target_program.access_time_usec          540 non-null    object \n",
      " 65  target_program.acl                       0 non-null      object \n",
      " 66  target_program.basename                  540 non-null    object \n",
      " 67  target_program.create_time_usec          540 non-null    object \n",
      " 68  target_program.file_hash                 0 non-null      object \n",
      " 69  target_program.mod_time_us               540 non-null    object \n",
      " 70  target_program.native_path               540 non-null    object \n",
      " 71  target_program.path                      540 non-null    object \n",
      " 72  target_program.path_context              540 non-null    object \n",
      " 73  target_program.sha1_hash                 540 non-null    object \n",
      " 74  target_program.signature.hash            540 non-null    object \n",
      " 75  target_program.signature.issuer_name     540 non-null    object \n",
      " 76  target_program.signature.more_info_link  540 non-null    object \n",
      " 77  target_program.signature.program_name    540 non-null    object \n",
      " 78  target_program.signature.publisher_link  540 non-null    object \n",
      " 79  target_program.signature.serial_number   540 non-null    object \n",
      " 80  target_program.signature.subject_name    540 non-null    object \n",
      " 81  target_program.signature.valid           540 non-null    object \n",
      " 82  target_program.size                      540 non-null    object \n",
      " 83  target_program.st_gid                    540 non-null    object \n",
      " 84  target_program.st_ino                    540 non-null    object \n",
      " 85  target_program.st_mode                   540 non-null    object \n",
      " 86  target_program.st_nlink                  540 non-null    object \n",
      " 87  target_program.st_uid                    540 non-null    object \n",
      " 88  target_program.type                      540 non-null    object \n",
      " 89  target_program.user_path                 540 non-null    object \n",
      " 90  target_program.version_info              0 non-null      object \n",
      " 91  enrichments                              0 non-null      float64\n",
      "dtypes: bool(5), float64(1), int64(6), object(80)\n",
      "memory usage: 369.8+ KB\n"
     ]
    }
   ],
   "source": [
    "cached_sc_processes_df = cached_results_df[cached_results_df.cache_name == \"sc_processes\"]\n",
    "concatenated_sc_processes = pd.concat([\n",
    "    df\n",
    "    for df in cached_sc_processes_df.results_as_dataframe.values\n",
    "], ignore_index=True)\n",
    "\n",
    "concatenated_sc_processes.info()"
   ]
  },
  {
   "cell_type": "code",
   "execution_count": 10,
   "metadata": {},
   "outputs": [
    {
     "data": {
      "text/plain": [
       "tenant_id\n",
       "145487    222\n",
       "145483    172\n",
       "145485    146\n",
       "Name: count, dtype: int64"
      ]
     },
     "execution_count": 10,
     "metadata": {},
     "output_type": "execute_result"
    }
   ],
   "source": [
    "concatenated_sc_processes.tenant_id.value_counts()"
   ]
  },
  {
   "cell_type": "markdown",
   "metadata": {},
   "source": [
    "## Step 5: Assign for Final Disposition\n",
    "\n",
    "The previous step shows how to review the aggregate results of a hunting procedure across all tenants in scope.\n",
    "The goal of that step was to identify which tenants require manual analysis due to either problems with the automated procedure or potential evidence of a threat that warrants further review.\n",
    "\n",
    "For tenants that require manual analysis, threat hunters are provided with copies of the executed notebook.\n",
    "The hunters can then interactively run the notebooks and determine which evidence should be added to an investigation and document their findings within the notebook.\n",
    "Lastly, hunters should create Taegis investigations from the executed notebook.\n",
    "\n",
    "For tenants that do not require manual analysis, it is helpful to automate the creation of a \"null findings\" investigation.\n",
    "Null findings investigations demonstrate to customers that the steps of the hunting procedure were performed and that no evidence of a given threat were found in the evidence.\n",
    "Automating the null findings investigations is outside the scope of this tutorial."
   ]
  },
  {
   "cell_type": "markdown",
   "metadata": {},
   "source": [
    "## Wrap-Up\n",
    "\n",
    "In this tutorial, we ran a hunting procedure across multiple Taegis tenants and reviewed the results in aggregate.\n",
    "These techniques can be adapted to scale out even further by running the notebooks in serverless functions and saving the results to blob storage."
   ]
  }
 ],
 "metadata": {
  "kernelspec": {
   "display_name": "taegis-hunting-tutorials",
   "language": "python",
   "name": "taegis-hunting-tutorials"
  },
  "language_info": {
   "codemirror_mode": {
    "name": "ipython",
    "version": 3
   },
   "file_extension": ".py",
   "mimetype": "text/x-python",
   "name": "python",
   "nbconvert_exporter": "python",
   "pygments_lexer": "ipython3",
   "version": "3.11.5"
  }
 },
 "nbformat": 4,
 "nbformat_minor": 4
}
