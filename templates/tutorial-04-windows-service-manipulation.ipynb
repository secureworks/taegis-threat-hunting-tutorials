{
 "cells": [
  {
   "cell_type": "code",
   "execution_count": 1,
   "metadata": {
    "tags": [
     "remove_cell"
    ]
   },
   "outputs": [],
   "source": [
    "# Manually override these values for ad hoc use.\n",
    "\n",
    "# TAEGIS_TENANT_ID = \"\"\n",
    "# TAEGIS_ENVIRONMENT = \"\"\n",
    "# INVESTIGATION_TITLE = \"\""
   ]
  },
  {
   "cell_type": "markdown",
   "metadata": {},
   "source": [
    "> This is a trivial procedure intended for use in Tutorial 4 - Hunting at Scale.\n",
    "> The content of this notebook is presented for demonstration purposes only.\n",
    "\n",
    "# Suspicious Windows Service Manipulation\n",
    "\n",
    "## Executive Summary\n",
    "\n",
    "The goal of this procedure is to identify possible anti-forensic and defense evasion techniques related to Windows service manipulation.\n",
    "The Windows operating system ensures that enabled services are running.\n",
    "Many security controls and monitoring software run as Windows services.\n",
    "Threat actors often disable Windows services associated with security controls and monitoring software, such as anti-virus and EDR software, to avoid detection and impede forensic investigation."
   ]
  },
  {
   "cell_type": "markdown",
   "metadata": {},
   "source": [
    "## Procedures\n",
    "\n",
    "On Windows, the native binary `sc.exe` is used to configure Windows services.\n",
    "It is uncommon for users or administrators to run `sc.exe` since Windows services on these systems are centrally managed by group policy.\n",
    "We will review all invocations of `sc.exe` to look for unusual users and command-line arguments suggestive of disabling known security tools. "
   ]
  },
  {
   "cell_type": "code",
   "execution_count": 2,
   "metadata": {
    "tags": [
     "remove_cell"
    ]
   },
   "outputs": [],
   "source": [
    "import pandas as pd\n",
    "from IPython.display import display_markdown\n",
    "\n",
    "def md(markdown_text: str):\n",
    "    return display_markdown(markdown_text, raw=True)\n",
    "\n",
    "%load_ext taegis_magic"
   ]
  },
  {
   "cell_type": "markdown",
   "metadata": {},
   "source": [
    "### Step 1: Review Recent Service-Related Alerts\n",
    "\n",
    "Please review all recent alerts related to Windows service manipulation that were lower than high severity."
   ]
  },
  {
   "cell_type": "code",
   "execution_count": null,
   "metadata": {},
   "outputs": [],
   "source": [
    "%%taegis alerts search --tenant $TAEGIS_TENANT_ID --region $TAEGIS_ENVIRONMENT --track --cache --assign sc_alerts\n",
    "\n",
    "FROM alert\n",
    "WHERE \n",
    "    metadata.severity <= 0.6 AND\n",
    "    (metadata.title contains 'service' OR metadata.title contains 'sc.exe')\n",
    "EARLIEST='2023-09-12T12:47:00'\n",
    "LATEST='2023-09-12T13:05:00'"
   ]
  },
  {
   "cell_type": "code",
   "execution_count": null,
   "metadata": {},
   "outputs": [],
   "source": [
    "if sc_alerts.empty:\n",
    "    md(\"No recent alerts were identified related to the manipulation of Windows services.\")\n",
    "else:\n",
    "    display(sc_alerts.groupby([\"status\", \"metadata.severity\", \"metadata.title\"])[\"id\"].nunique().to_frame())"
   ]
  },
  {
   "cell_type": "code",
   "execution_count": null,
   "metadata": {},
   "outputs": [],
   "source": [
    "# Intentionally left commented out!\n",
    "# Analysts are encouraged to uncomment when ready to attach evidence.\n",
    "#%taegis investigations evidence stage alerts sc_alerts"
   ]
  },
  {
   "cell_type": "markdown",
   "metadata": {},
   "source": [
    "### Step 2: Enumerate `sc.exe` Processes"
   ]
  },
  {
   "cell_type": "code",
   "execution_count": null,
   "metadata": {},
   "outputs": [],
   "source": [
    "%%taegis events search --tenant $TAEGIS_TENANT_ID --region $TAEGIS_ENVIRONMENT --track --cache --assign sc_processes\n",
    "\n",
    "FROM process\n",
    "WHERE image_path contains 'sc.exe'\n",
    "EARLIEST='2023-09-12T12:47:00'\n",
    "LATEST='2023-09-12T13:05:00'"
   ]
  },
  {
   "cell_type": "markdown",
   "metadata": {},
   "source": [
    "### Step 3: Find Unusual User Execution of `sc.exe`\n",
    "\n",
    "In our environment, invocations of `sc.exe` should be performed by administrator users or the `SYSTEM` account.\n",
    "Administrator usernames must start with `adm_*`.\n",
    "Please review all invocations of `sc.exe` performed by unauthorized or unknown user accounts."
   ]
  },
  {
   "cell_type": "code",
   "execution_count": null,
   "metadata": {},
   "outputs": [],
   "source": [
    "step_3_evidence = sc_processes[~sc_processes.username.str.contains(\"adm_|SYSTEM\")]\n",
    "if step_3_evidence.empty:\n",
    "    md(\"`sc.exe` was not executed by non-SYSTEM, non-administrator users.\")\n",
    "else:\n",
    "    display(step_3_evidence.groupby([\"username\", \"parent_image_path\", \"image_path\", \"commandline\"]).size().to_frame())"
   ]
  },
  {
   "cell_type": "code",
   "execution_count": null,
   "metadata": {},
   "outputs": [],
   "source": [
    "# Intentionally left commented out!\n",
    "# Analysts are encouraged to uncomment when ready to attach evidence.\n",
    "#%taegis investigations evidence stage events step_3_evidence"
   ]
  },
  {
   "cell_type": "markdown",
   "metadata": {},
   "source": [
    "### Step 4: Identify Anomalous Command-line Arguments\n",
    "\n",
    "The `sc.exe` command takes several arguments that indicate which service configurations should be changed.\n",
    "Since Windows service configuration in our environment is managed by Group Policy, manual `sc stop` and `sc disable` commands are not expected behavior.\n",
    "`sc stop` and `sc disable` commands are more suspicious if the target service is associated with a security control or monitoring software.\n",
    "Please review these `sc` commands for unauthorized service manipulation."
   ]
  },
  {
   "cell_type": "code",
   "execution_count": null,
   "metadata": {},
   "outputs": [],
   "source": [
    "step_4_evidence = sc_processes[sc_processes.commandline.str.contains(\"stop|delete\", case=False)]\n",
    "if step_4_evidence.empty:\n",
    "    md(\"No `sc stop` or `sc disable` commands were observed.\")\n",
    "else:\n",
    "    display(step_4_evidence)"
   ]
  },
  {
   "cell_type": "code",
   "execution_count": null,
   "metadata": {
    "tags": [
     "remove_cell"
    ]
   },
   "outputs": [],
   "source": [
    "# Intentionally left commented out!\n",
    "# Analysts are encouraged to uncomment when ready to attach evidence.\n",
    "#%taegis investigations evidence stage events step_4_evidence"
   ]
  },
  {
   "cell_type": "markdown",
   "metadata": {
    "tags": [
     "analyst_input"
    ]
   },
   "source": [
    "## Findings\n",
    "\n",
    "*This should be filled in by the analyst when using the notebook.*"
   ]
  },
  {
   "cell_type": "markdown",
   "metadata": {},
   "source": [
    "## Recommendations\n",
    "\n",
    "If suspicious service manipulation was discovered, please follow incident response playbook XYZ."
   ]
  },
  {
   "cell_type": "markdown",
   "metadata": {
    "tags": [
     "remove_cell"
    ]
   },
   "source": [
    "**Please remember to save the notebook and set the cell type to \"Code\" before running the following cell.**"
   ]
  },
  {
   "cell_type": "raw",
   "metadata": {
    "tags": [
     "remove_cell"
    ]
   },
   "source": [
    "%taegis investigations search-queries stage\n",
    "\n",
    "!jupyter nbconvert \\\n",
    "--to markdown \\\n",
    "--no-input \\\n",
    "--output key-findings.md \\\n",
    "$TAEGIS_MAGIC_NOTEBOOK_FILENAME \\\n",
    "--TagRemovePreprocessor.enabled=True \\\n",
    "--TagRemovePreprocessor.remove_cell_tags remove_cell\n",
    "\n",
    "%taegis investigations create \\\n",
    "--title $INVESTIGATION_TITLE \\\n",
    "--key-findings key-findings.md \\\n",
    "--priority MEDIUM \\\n",
    "--type THREAT_HUNT \\\n",
    "--status OPEN \\\n",
    "--assignee-id @customer \\\n",
    "--region $TAEGIS_ENVIRONMENT \\\n",
    "--tenant $TAEGIS_TENANT_ID"
   ]
  }
 ],
 "metadata": {
  "hunting": {
   "attack_technique_ids": [
    "T1562.001"
   ],
   "data_sources": [
    "scwx.process"
   ],
   "description": "The goal of this procedure is to identify possible anti-forensic and defense evasion techniques related to Windows service manipulation.",
   "id": "tutorial-04-example-procedure-abcd123",
   "tags": [
    "windows"
   ],
   "title": " Suspicious Windows Service Manipulation"
  },
  "kernelspec": {
   "display_name": "taegis-hunting-tutorials",
   "language": "python",
   "name": "python3"
  },
  "language_info": {
   "codemirror_mode": {
    "name": "ipython",
    "version": 3
   },
   "file_extension": ".py",
   "mimetype": "text/x-python",
   "name": "python",
   "nbconvert_exporter": "python",
   "pygments_lexer": "ipython3",
   "version": "3.11.4"
  }
 },
 "nbformat": 4,
 "nbformat_minor": 2
}
