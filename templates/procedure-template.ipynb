{
 "cells": [
  {
   "cell_type": "code",
   "execution_count": null,
   "metadata": {
    "tags": [
     "remove_cell",
     "parameters"
    ]
   },
   "outputs": [],
   "source": [
    "# Manually override these values for ad hoc use.\n",
    "\n",
    "TAEGIS_TENANT_ID = \"\"\n",
    "TAEGIS_ENVIRONMENT = \"\"\n",
    "INVESTIGATION_TITLE = \"\""
   ]
  },
  {
   "cell_type": "markdown",
   "metadata": {},
   "source": [
    "## Executive Summary\n",
    "\n",
    "*Replace this text with an executive summary that describes the threat and the methodology used to find evidence of the threat.*"
   ]
  },
  {
   "cell_type": "markdown",
   "metadata": {},
   "source": [
    "## Procedures"
   ]
  },
  {
   "cell_type": "code",
   "execution_count": null,
   "metadata": {
    "tags": [
     "remove_cell"
    ]
   },
   "outputs": [],
   "source": [
    "import pandas as pd\n",
    "\n",
    "%load_ext taegis_magic"
   ]
  },
  {
   "cell_type": "markdown",
   "metadata": {},
   "source": [
    "### Step N: *Step Title*\n",
    "\n",
    "*Replace this text with a customer-facing description of the specific step taken to implement the hunting procedure. You can repeat this structure for each step required in the procedure.*"
   ]
  },
  {
   "cell_type": "markdown",
   "metadata": {
    "tags": [
     "remove_cell"
    ]
   },
   "source": [
    "*You can optionally include internal-only instructions in Markdown cells tagged with `remove_cell`.*"
   ]
  },
  {
   "cell_type": "code",
   "execution_count": null,
   "metadata": {},
   "outputs": [],
   "source": [
    "%%taegis event search --tenant $TAEGIS_TENANT_ID --region $TAEGIS_ENVIRONMENT --track --cache --assign step1\n",
    "\n",
    "FROM ...\n",
    "WHERE ...\n",
    "EARLIEST=-7d"
   ]
  },
  {
   "cell_type": "code",
   "execution_count": null,
   "metadata": {
    "tags": [
     "remove_cell"
    ]
   },
   "outputs": [],
   "source": [
    "# This cell should contain Python code to transform and/or filter the query results.\n",
    "#step1_evidence = ..."
   ]
  },
  {
   "cell_type": "code",
   "execution_count": null,
   "metadata": {
    "tags": [
     "remove_cell"
    ]
   },
   "outputs": [],
   "source": [
    "# Intentionally left commented out!\n",
    "# Analysts are encouraged to uncomment when ready to attach evidence.\n",
    "#%taegis investigations evidence stage events step1_evidence"
   ]
  },
  {
   "cell_type": "markdown",
   "metadata": {
    "tags": [
     "analyst_input"
    ]
   },
   "source": [
    "## Findings\n",
    "\n",
    "*This should be filled in by the analyst when using the notebook.*"
   ]
  },
  {
   "cell_type": "markdown",
   "metadata": {},
   "source": [
    "## Recommendations\n",
    "\n",
    "*Replace this text with any recommendations for the customer based on the findings.*"
   ]
  },
  {
   "cell_type": "markdown",
   "metadata": {
    "tags": [
     "remove_cell"
    ]
   },
   "source": [
    "**Please remember to save the notebook and set the cell type to \"Code\" before running the following cell.**"
   ]
  },
  {
   "cell_type": "raw",
   "metadata": {
    "tags": [
     "remove_cell"
    ]
   },
   "source": [
    "%taegis investigations search-queries stage\n",
    "\n",
    "!jupyter nbconvert \\\n",
    "--to markdown \\\n",
    "--no-input \\\n",
    "--output key-findings.md \\\n",
    "$TAEGIS_MAGIC_NOTEBOOK_FILENAME \\\n",
    "--TagRemovePreprocessor.enabled=True \\\n",
    "--TagRemovePreprocessor.remove_cell_tags remove_cell\n",
    "\n",
    "%taegis investigations create \\\n",
    "--title $INVESTIGATION_TITLE \\\n",
    "--key-findings key-findings.md \\\n",
    "--priority MEDIUM \\\n",
    "--type THREAT_HUNT \\\n",
    "--status OPEN \\\n",
    "--assignee-id @customer \\\n",
    "--region $TAEGIS_ENVIRONMENT \\\n",
    "--tenant $TAEGIS_TENANT_ID"
   ]
  }
 ],
 "metadata": {
  "kernelspec": {
   "display_name": "taegis-hunting-tutorials",
   "language": "python",
   "name": "python3"
  },
  "language_info": {
   "name": "python",
   "version": "3.11.4"
  },
  "orig_nbformat": 4
 },
 "nbformat": 4,
 "nbformat_minor": 2
}
